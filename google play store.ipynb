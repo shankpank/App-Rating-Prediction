{
 "cells": [
  {
   "cell_type": "markdown",
   "id": "314311ec",
   "metadata": {},
   "source": [
    "# Project(Programming Basics and Data Analytics with Python)"
   ]
  },
  {
   "cell_type": "code",
   "execution_count": 1,
   "id": "4e767927",
   "metadata": {},
   "outputs": [],
   "source": [
    "#Importing library\n",
    "import numpy as np\n",
    "import pandas as pd"
   ]
  },
  {
   "cell_type": "markdown",
   "id": "d16d75f5",
   "metadata": {},
   "source": [
    "### 1 : Load the data file using pandas. "
   ]
  },
  {
   "cell_type": "code",
   "execution_count": 2,
   "id": "53ac05c4",
   "metadata": {},
   "outputs": [],
   "source": [
    "#Reading csv file with read_csv\n",
    "\n",
    "googleplaystore = pd.read_csv('googleplaystore2.csv')"
   ]
  },
  {
   "cell_type": "code",
   "execution_count": 3,
   "id": "de764b99",
   "metadata": {},
   "outputs": [],
   "source": [
    "#Making copy of dataset\n",
    "storedata= googleplaystore.copy(deep=True)"
   ]
  },
  {
   "cell_type": "code",
   "execution_count": 4,
   "id": "2862ae78",
   "metadata": {},
   "outputs": [
    {
     "data": {
      "text/plain": [
       "(10841, 13)"
      ]
     },
     "execution_count": 4,
     "metadata": {},
     "output_type": "execute_result"
    }
   ],
   "source": [
    "storedata.shape"
   ]
  },
  {
   "cell_type": "code",
   "execution_count": 5,
   "id": "d01f1e03",
   "metadata": {},
   "outputs": [
    {
     "data": {
      "text/plain": [
       "Index(['App', 'Category', 'Rating', 'Reviews', 'Size', 'Installs', 'Type',\n",
       "       'Price', 'Content Rating', 'Genres', 'Last Updated', 'Current Ver',\n",
       "       'Android Ver'],\n",
       "      dtype='object')"
      ]
     },
     "execution_count": 5,
     "metadata": {},
     "output_type": "execute_result"
    }
   ],
   "source": [
    "#checking columns.\n",
    "storedata.columns"
   ]
  },
  {
   "cell_type": "code",
   "execution_count": 6,
   "id": "0f4e1572",
   "metadata": {},
   "outputs": [
    {
     "name": "stdout",
     "output_type": "stream",
     "text": [
      "<class 'pandas.core.frame.DataFrame'>\n",
      "RangeIndex: 10841 entries, 0 to 10840\n",
      "Data columns (total 13 columns):\n",
      " #   Column          Non-Null Count  Dtype  \n",
      "---  ------          --------------  -----  \n",
      " 0   App             10841 non-null  object \n",
      " 1   Category        10841 non-null  object \n",
      " 2   Rating          9367 non-null   float64\n",
      " 3   Reviews         10841 non-null  object \n",
      " 4   Size            10841 non-null  object \n",
      " 5   Installs        10841 non-null  object \n",
      " 6   Type            10840 non-null  object \n",
      " 7   Price           10841 non-null  object \n",
      " 8   Content Rating  10840 non-null  object \n",
      " 9   Genres          10841 non-null  object \n",
      " 10  Last Updated    10841 non-null  object \n",
      " 11  Current Ver     10833 non-null  object \n",
      " 12  Android Ver     10838 non-null  object \n",
      "dtypes: float64(1), object(12)\n",
      "memory usage: 1.1+ MB\n"
     ]
    }
   ],
   "source": [
    "storedata.info()   # understanding the dataset"
   ]
  },
  {
   "cell_type": "code",
   "execution_count": 7,
   "id": "6cc2ef79",
   "metadata": {},
   "outputs": [
    {
     "data": {
      "text/html": [
       "<div>\n",
       "<style scoped>\n",
       "    .dataframe tbody tr th:only-of-type {\n",
       "        vertical-align: middle;\n",
       "    }\n",
       "\n",
       "    .dataframe tbody tr th {\n",
       "        vertical-align: top;\n",
       "    }\n",
       "\n",
       "    .dataframe thead th {\n",
       "        text-align: right;\n",
       "    }\n",
       "</style>\n",
       "<table border=\"1\" class=\"dataframe\">\n",
       "  <thead>\n",
       "    <tr style=\"text-align: right;\">\n",
       "      <th></th>\n",
       "      <th>Rating</th>\n",
       "    </tr>\n",
       "  </thead>\n",
       "  <tbody>\n",
       "    <tr>\n",
       "      <th>count</th>\n",
       "      <td>9367.000000</td>\n",
       "    </tr>\n",
       "    <tr>\n",
       "      <th>mean</th>\n",
       "      <td>4.193338</td>\n",
       "    </tr>\n",
       "    <tr>\n",
       "      <th>std</th>\n",
       "      <td>0.537431</td>\n",
       "    </tr>\n",
       "    <tr>\n",
       "      <th>min</th>\n",
       "      <td>1.000000</td>\n",
       "    </tr>\n",
       "    <tr>\n",
       "      <th>25%</th>\n",
       "      <td>4.000000</td>\n",
       "    </tr>\n",
       "    <tr>\n",
       "      <th>50%</th>\n",
       "      <td>4.300000</td>\n",
       "    </tr>\n",
       "    <tr>\n",
       "      <th>75%</th>\n",
       "      <td>4.500000</td>\n",
       "    </tr>\n",
       "    <tr>\n",
       "      <th>max</th>\n",
       "      <td>19.000000</td>\n",
       "    </tr>\n",
       "  </tbody>\n",
       "</table>\n",
       "</div>"
      ],
      "text/plain": [
       "            Rating\n",
       "count  9367.000000\n",
       "mean      4.193338\n",
       "std       0.537431\n",
       "min       1.000000\n",
       "25%       4.000000\n",
       "50%       4.300000\n",
       "75%       4.500000\n",
       "max      19.000000"
      ]
     },
     "execution_count": 7,
     "metadata": {},
     "output_type": "execute_result"
    }
   ],
   "source": [
    "storedata.describe() #checking count, mean median, mode std and quantile of int variable. "
   ]
  },
  {
   "cell_type": "code",
   "execution_count": 8,
   "id": "5cfb0918",
   "metadata": {},
   "outputs": [
    {
     "data": {
      "text/html": [
       "<div>\n",
       "<style scoped>\n",
       "    .dataframe tbody tr th:only-of-type {\n",
       "        vertical-align: middle;\n",
       "    }\n",
       "\n",
       "    .dataframe tbody tr th {\n",
       "        vertical-align: top;\n",
       "    }\n",
       "\n",
       "    .dataframe thead th {\n",
       "        text-align: right;\n",
       "    }\n",
       "</style>\n",
       "<table border=\"1\" class=\"dataframe\">\n",
       "  <thead>\n",
       "    <tr style=\"text-align: right;\">\n",
       "      <th></th>\n",
       "      <th>App</th>\n",
       "      <th>Category</th>\n",
       "      <th>Rating</th>\n",
       "      <th>Reviews</th>\n",
       "      <th>Size</th>\n",
       "      <th>Installs</th>\n",
       "      <th>Type</th>\n",
       "      <th>Price</th>\n",
       "      <th>Content Rating</th>\n",
       "      <th>Genres</th>\n",
       "      <th>Last Updated</th>\n",
       "      <th>Current Ver</th>\n",
       "      <th>Android Ver</th>\n",
       "    </tr>\n",
       "  </thead>\n",
       "  <tbody>\n",
       "    <tr>\n",
       "      <th>0</th>\n",
       "      <td>Photo Editor &amp; Candy Camera &amp; Grid &amp; ScrapBook</td>\n",
       "      <td>ART_AND_DESIGN</td>\n",
       "      <td>4.1</td>\n",
       "      <td>159</td>\n",
       "      <td>19M</td>\n",
       "      <td>10,000+</td>\n",
       "      <td>Free</td>\n",
       "      <td>0</td>\n",
       "      <td>Everyone</td>\n",
       "      <td>Art &amp; Design</td>\n",
       "      <td>January 7, 2018</td>\n",
       "      <td>1.0.0</td>\n",
       "      <td>4.0.3 and up</td>\n",
       "    </tr>\n",
       "    <tr>\n",
       "      <th>1</th>\n",
       "      <td>Coloring book moana</td>\n",
       "      <td>ART_AND_DESIGN</td>\n",
       "      <td>3.9</td>\n",
       "      <td>967</td>\n",
       "      <td>14M</td>\n",
       "      <td>500,000+</td>\n",
       "      <td>Free</td>\n",
       "      <td>0</td>\n",
       "      <td>Everyone</td>\n",
       "      <td>Art &amp; Design;Pretend Play</td>\n",
       "      <td>January 15, 2018</td>\n",
       "      <td>2.0.0</td>\n",
       "      <td>4.0.3 and up</td>\n",
       "    </tr>\n",
       "    <tr>\n",
       "      <th>2</th>\n",
       "      <td>U Launcher Lite – FREE Live Cool Themes, Hide ...</td>\n",
       "      <td>ART_AND_DESIGN</td>\n",
       "      <td>4.7</td>\n",
       "      <td>87510</td>\n",
       "      <td>8.7M</td>\n",
       "      <td>5,000,000+</td>\n",
       "      <td>Free</td>\n",
       "      <td>0</td>\n",
       "      <td>Everyone</td>\n",
       "      <td>Art &amp; Design</td>\n",
       "      <td>August 1, 2018</td>\n",
       "      <td>1.2.4</td>\n",
       "      <td>4.0.3 and up</td>\n",
       "    </tr>\n",
       "    <tr>\n",
       "      <th>3</th>\n",
       "      <td>Sketch - Draw &amp; Paint</td>\n",
       "      <td>ART_AND_DESIGN</td>\n",
       "      <td>4.5</td>\n",
       "      <td>215644</td>\n",
       "      <td>25M</td>\n",
       "      <td>50,000,000+</td>\n",
       "      <td>Free</td>\n",
       "      <td>0</td>\n",
       "      <td>Teen</td>\n",
       "      <td>Art &amp; Design</td>\n",
       "      <td>June 8, 2018</td>\n",
       "      <td>Varies with device</td>\n",
       "      <td>4.2 and up</td>\n",
       "    </tr>\n",
       "    <tr>\n",
       "      <th>4</th>\n",
       "      <td>Pixel Draw - Number Art Coloring Book</td>\n",
       "      <td>ART_AND_DESIGN</td>\n",
       "      <td>4.3</td>\n",
       "      <td>967</td>\n",
       "      <td>2.8M</td>\n",
       "      <td>100,000+</td>\n",
       "      <td>Free</td>\n",
       "      <td>0</td>\n",
       "      <td>Everyone</td>\n",
       "      <td>Art &amp; Design;Creativity</td>\n",
       "      <td>June 20, 2018</td>\n",
       "      <td>1.1</td>\n",
       "      <td>4.4 and up</td>\n",
       "    </tr>\n",
       "  </tbody>\n",
       "</table>\n",
       "</div>"
      ],
      "text/plain": [
       "                                                 App        Category  Rating  \\\n",
       "0     Photo Editor & Candy Camera & Grid & ScrapBook  ART_AND_DESIGN     4.1   \n",
       "1                                Coloring book moana  ART_AND_DESIGN     3.9   \n",
       "2  U Launcher Lite – FREE Live Cool Themes, Hide ...  ART_AND_DESIGN     4.7   \n",
       "3                              Sketch - Draw & Paint  ART_AND_DESIGN     4.5   \n",
       "4              Pixel Draw - Number Art Coloring Book  ART_AND_DESIGN     4.3   \n",
       "\n",
       "  Reviews  Size     Installs  Type Price Content Rating  \\\n",
       "0     159   19M      10,000+  Free     0       Everyone   \n",
       "1     967   14M     500,000+  Free     0       Everyone   \n",
       "2   87510  8.7M   5,000,000+  Free     0       Everyone   \n",
       "3  215644   25M  50,000,000+  Free     0           Teen   \n",
       "4     967  2.8M     100,000+  Free     0       Everyone   \n",
       "\n",
       "                      Genres      Last Updated         Current Ver  \\\n",
       "0               Art & Design   January 7, 2018               1.0.0   \n",
       "1  Art & Design;Pretend Play  January 15, 2018               2.0.0   \n",
       "2               Art & Design    August 1, 2018               1.2.4   \n",
       "3               Art & Design      June 8, 2018  Varies with device   \n",
       "4    Art & Design;Creativity     June 20, 2018                 1.1   \n",
       "\n",
       "    Android Ver  \n",
       "0  4.0.3 and up  \n",
       "1  4.0.3 and up  \n",
       "2  4.0.3 and up  \n",
       "3    4.2 and up  \n",
       "4    4.4 and up  "
      ]
     },
     "execution_count": 8,
     "metadata": {},
     "output_type": "execute_result"
    }
   ],
   "source": [
    "# check top 5 columns \n",
    "storedata.head()"
   ]
  },
  {
   "cell_type": "markdown",
   "id": "b289ee16",
   "metadata": {},
   "source": [
    "## 2: Check for null values in the data. Get the number of null values for each column."
   ]
  },
  {
   "cell_type": "code",
   "execution_count": 9,
   "id": "8bc50369",
   "metadata": {},
   "outputs": [
    {
     "data": {
      "text/plain": [
       "App                  0\n",
       "Category             0\n",
       "Rating            1474\n",
       "Reviews              0\n",
       "Size                 0\n",
       "Installs             0\n",
       "Type                 1\n",
       "Price                0\n",
       "Content Rating       1\n",
       "Genres               0\n",
       "Last Updated         0\n",
       "Current Ver          8\n",
       "Android Ver          3\n",
       "dtype: int64"
      ]
     },
     "execution_count": 9,
     "metadata": {},
     "output_type": "execute_result"
    }
   ],
   "source": [
    "#cheking null values\n",
    "\n",
    "#Rating feature has 1474 null value\n",
    "#Type has 1 null value\n",
    "#Content rating has 1 null value\n",
    "#Current var has 8 null values\n",
    "#Android Var 3 null values\n",
    "storedata.isnull().sum()"
   ]
  },
  {
   "cell_type": "markdown",
   "id": "82995085",
   "metadata": {},
   "source": [
    "##  3: Drop records with nulls in any of the columns. "
   ]
  },
  {
   "cell_type": "code",
   "execution_count": 10,
   "id": "ce4a8323",
   "metadata": {},
   "outputs": [
    {
     "data": {
      "text/plain": [
       "(9360, 13)"
      ]
     },
     "execution_count": 10,
     "metadata": {},
     "output_type": "execute_result"
    }
   ],
   "source": [
    "#Dropping null values\n",
    "\n",
    "#Finding---> Before dropping null values total records were (10841, 13)\n",
    "#Finding---> After dropping null values total records are   (9360 ,13)\n",
    "\n",
    "storedata=storedata.dropna()\n",
    "storedata.shape"
   ]
  },
  {
   "cell_type": "markdown",
   "id": "0246c2aa",
   "metadata": {},
   "source": [
    "\n",
    "##  4 : Variables seem to have incorrect type and inconsistent formatting. You need to fix them: \n",
    "\n",
    "### 4:1  Size column has sizes in Kb as well as Mb. To analyze, you’ll need to convert these to numeric.\n",
    "\n",
    "        1:1 Extract the numeric value from the column\n",
    "\n",
    "        1:2 Multiply the value by 1,000, if size is mentioned in Mb"
   ]
  },
  {
   "cell_type": "code",
   "execution_count": 11,
   "id": "00db71c9",
   "metadata": {},
   "outputs": [],
   "source": [
    "storedata.Size = storedata.Size.replace('Varies with device','0k')\n",
    "\n",
    "storedata['Measure'] = storedata['Size'].str[-1:]\n",
    "storedata['Size']=storedata['Size'].replace({'M':'', 'k':'', 'K':''}, regex=True)\n",
    "\n",
    "#change datatype\n",
    "storedata['Size']=storedata['Size'].astype(float)\n",
    "\n",
    "storedata['Size'] = np.where(storedata['Measure'] == 'M',storedata['Size'] * 1000,storedata['Size'])"
   ]
  },
  {
   "cell_type": "code",
   "execution_count": 12,
   "id": "a0270588",
   "metadata": {},
   "outputs": [
    {
     "data": {
      "text/plain": [
       "10817     8000.0\n",
       "10819     3600.0\n",
       "10820     8600.0\n",
       "10826        0.0\n",
       "10827    13000.0\n",
       "10828    13000.0\n",
       "10829     7400.0\n",
       "10830     2300.0\n",
       "10832      582.0\n",
       "10833      619.0\n",
       "10834     2600.0\n",
       "10836    53000.0\n",
       "10837     3600.0\n",
       "10839        0.0\n",
       "10840    19000.0\n",
       "Name: Size, dtype: float64"
      ]
     },
     "execution_count": 12,
     "metadata": {},
     "output_type": "execute_result"
    }
   ],
   "source": [
    "storedata = storedata.drop(['Measure'], axis =1)\n",
    "storedata.Size.tail(15)\n",
    "# Now we have removed the 'M' and 'k' alphabet from the data and multiply those values where 'M' is present"
   ]
  },
  {
   "cell_type": "markdown",
   "id": "b6e40ff6",
   "metadata": {},
   "source": [
    "## 4: 2 Reviews is a numeric field that is loaded as a string field. Convert it to numeric (int/float).\n",
    "\n"
   ]
  },
  {
   "cell_type": "code",
   "execution_count": 13,
   "id": "510566af",
   "metadata": {},
   "outputs": [],
   "source": [
    "storedata['Reviews']=storedata['Reviews'].astype(int)   #coverting datatype of review to int from string"
   ]
  },
  {
   "cell_type": "code",
   "execution_count": 14,
   "id": "23279bda",
   "metadata": {},
   "outputs": [
    {
     "data": {
      "text/plain": [
       "dtype('int32')"
      ]
     },
     "execution_count": 14,
     "metadata": {},
     "output_type": "execute_result"
    }
   ],
   "source": [
    "storedata['Reviews'].dtypes"
   ]
  },
  {
   "cell_type": "code",
   "execution_count": 15,
   "id": "0c398020",
   "metadata": {},
   "outputs": [
    {
     "data": {
      "text/html": [
       "<div>\n",
       "<style scoped>\n",
       "    .dataframe tbody tr th:only-of-type {\n",
       "        vertical-align: middle;\n",
       "    }\n",
       "\n",
       "    .dataframe tbody tr th {\n",
       "        vertical-align: top;\n",
       "    }\n",
       "\n",
       "    .dataframe thead th {\n",
       "        text-align: right;\n",
       "    }\n",
       "</style>\n",
       "<table border=\"1\" class=\"dataframe\">\n",
       "  <thead>\n",
       "    <tr style=\"text-align: right;\">\n",
       "      <th></th>\n",
       "      <th>App</th>\n",
       "      <th>Category</th>\n",
       "      <th>Rating</th>\n",
       "      <th>Reviews</th>\n",
       "      <th>Size</th>\n",
       "      <th>Installs</th>\n",
       "      <th>Type</th>\n",
       "      <th>Price</th>\n",
       "      <th>Content Rating</th>\n",
       "      <th>Genres</th>\n",
       "      <th>Last Updated</th>\n",
       "      <th>Current Ver</th>\n",
       "      <th>Android Ver</th>\n",
       "    </tr>\n",
       "  </thead>\n",
       "  <tbody>\n",
       "    <tr>\n",
       "      <th>0</th>\n",
       "      <td>Photo Editor &amp; Candy Camera &amp; Grid &amp; ScrapBook</td>\n",
       "      <td>ART_AND_DESIGN</td>\n",
       "      <td>4.1</td>\n",
       "      <td>159</td>\n",
       "      <td>19000.0</td>\n",
       "      <td>10,000+</td>\n",
       "      <td>Free</td>\n",
       "      <td>0</td>\n",
       "      <td>Everyone</td>\n",
       "      <td>Art &amp; Design</td>\n",
       "      <td>January 7, 2018</td>\n",
       "      <td>1.0.0</td>\n",
       "      <td>4.0.3 and up</td>\n",
       "    </tr>\n",
       "    <tr>\n",
       "      <th>1</th>\n",
       "      <td>Coloring book moana</td>\n",
       "      <td>ART_AND_DESIGN</td>\n",
       "      <td>3.9</td>\n",
       "      <td>967</td>\n",
       "      <td>14000.0</td>\n",
       "      <td>500,000+</td>\n",
       "      <td>Free</td>\n",
       "      <td>0</td>\n",
       "      <td>Everyone</td>\n",
       "      <td>Art &amp; Design;Pretend Play</td>\n",
       "      <td>January 15, 2018</td>\n",
       "      <td>2.0.0</td>\n",
       "      <td>4.0.3 and up</td>\n",
       "    </tr>\n",
       "    <tr>\n",
       "      <th>2</th>\n",
       "      <td>U Launcher Lite – FREE Live Cool Themes, Hide ...</td>\n",
       "      <td>ART_AND_DESIGN</td>\n",
       "      <td>4.7</td>\n",
       "      <td>87510</td>\n",
       "      <td>8700.0</td>\n",
       "      <td>5,000,000+</td>\n",
       "      <td>Free</td>\n",
       "      <td>0</td>\n",
       "      <td>Everyone</td>\n",
       "      <td>Art &amp; Design</td>\n",
       "      <td>August 1, 2018</td>\n",
       "      <td>1.2.4</td>\n",
       "      <td>4.0.3 and up</td>\n",
       "    </tr>\n",
       "    <tr>\n",
       "      <th>3</th>\n",
       "      <td>Sketch - Draw &amp; Paint</td>\n",
       "      <td>ART_AND_DESIGN</td>\n",
       "      <td>4.5</td>\n",
       "      <td>215644</td>\n",
       "      <td>25000.0</td>\n",
       "      <td>50,000,000+</td>\n",
       "      <td>Free</td>\n",
       "      <td>0</td>\n",
       "      <td>Teen</td>\n",
       "      <td>Art &amp; Design</td>\n",
       "      <td>June 8, 2018</td>\n",
       "      <td>Varies with device</td>\n",
       "      <td>4.2 and up</td>\n",
       "    </tr>\n",
       "    <tr>\n",
       "      <th>4</th>\n",
       "      <td>Pixel Draw - Number Art Coloring Book</td>\n",
       "      <td>ART_AND_DESIGN</td>\n",
       "      <td>4.3</td>\n",
       "      <td>967</td>\n",
       "      <td>2800.0</td>\n",
       "      <td>100,000+</td>\n",
       "      <td>Free</td>\n",
       "      <td>0</td>\n",
       "      <td>Everyone</td>\n",
       "      <td>Art &amp; Design;Creativity</td>\n",
       "      <td>June 20, 2018</td>\n",
       "      <td>1.1</td>\n",
       "      <td>4.4 and up</td>\n",
       "    </tr>\n",
       "  </tbody>\n",
       "</table>\n",
       "</div>"
      ],
      "text/plain": [
       "                                                 App        Category  Rating  \\\n",
       "0     Photo Editor & Candy Camera & Grid & ScrapBook  ART_AND_DESIGN     4.1   \n",
       "1                                Coloring book moana  ART_AND_DESIGN     3.9   \n",
       "2  U Launcher Lite – FREE Live Cool Themes, Hide ...  ART_AND_DESIGN     4.7   \n",
       "3                              Sketch - Draw & Paint  ART_AND_DESIGN     4.5   \n",
       "4              Pixel Draw - Number Art Coloring Book  ART_AND_DESIGN     4.3   \n",
       "\n",
       "   Reviews     Size     Installs  Type Price Content Rating  \\\n",
       "0      159  19000.0      10,000+  Free     0       Everyone   \n",
       "1      967  14000.0     500,000+  Free     0       Everyone   \n",
       "2    87510   8700.0   5,000,000+  Free     0       Everyone   \n",
       "3   215644  25000.0  50,000,000+  Free     0           Teen   \n",
       "4      967   2800.0     100,000+  Free     0       Everyone   \n",
       "\n",
       "                      Genres      Last Updated         Current Ver  \\\n",
       "0               Art & Design   January 7, 2018               1.0.0   \n",
       "1  Art & Design;Pretend Play  January 15, 2018               2.0.0   \n",
       "2               Art & Design    August 1, 2018               1.2.4   \n",
       "3               Art & Design      June 8, 2018  Varies with device   \n",
       "4    Art & Design;Creativity     June 20, 2018                 1.1   \n",
       "\n",
       "    Android Ver  \n",
       "0  4.0.3 and up  \n",
       "1  4.0.3 and up  \n",
       "2  4.0.3 and up  \n",
       "3    4.2 and up  \n",
       "4    4.4 and up  "
      ]
     },
     "execution_count": 15,
     "metadata": {},
     "output_type": "execute_result"
    }
   ],
   "source": [
    "storedata.head()"
   ]
  },
  {
   "cell_type": "code",
   "execution_count": 16,
   "id": "8cae7830",
   "metadata": {},
   "outputs": [
    {
     "data": {
      "text/plain": [
       "(9360, 13)"
      ]
     },
     "execution_count": 16,
     "metadata": {},
     "output_type": "execute_result"
    }
   ],
   "source": [
    "storedata.shape"
   ]
  },
  {
   "cell_type": "markdown",
   "id": "21a44e24",
   "metadata": {},
   "source": [
    "## 4: 3 Installs field is currently stored as string and has values like 1,000,000+. \n",
    "\n",
    "        Treat 1,000,000+ as 1,000,000\n",
    "\n",
    "        remove ‘+’, ‘,’ from the field, convert it to integer"
   ]
  },
  {
   "cell_type": "code",
   "execution_count": 17,
   "id": "83e9f6f0",
   "metadata": {},
   "outputs": [],
   "source": [
    "storedata['Installs']=storedata['Installs'].str[:-1]"
   ]
  },
  {
   "cell_type": "code",
   "execution_count": 18,
   "id": "8d3f5c56",
   "metadata": {},
   "outputs": [],
   "source": [
    "storedata['Installs']=storedata['Installs'].replace(\",\",\"\",regex=True).astype(int)\n",
    "#removing \"+\" and \",\" from \"Installs\" field. "
   ]
  },
  {
   "cell_type": "code",
   "execution_count": 19,
   "id": "8ffec586",
   "metadata": {},
   "outputs": [
    {
     "data": {
      "text/plain": [
       "0       10000\n",
       "1      500000\n",
       "2     5000000\n",
       "3    50000000\n",
       "4      100000\n",
       "Name: Installs, dtype: int32"
      ]
     },
     "execution_count": 19,
     "metadata": {},
     "output_type": "execute_result"
    }
   ],
   "source": [
    "storedata['Installs'].head()"
   ]
  },
  {
   "cell_type": "code",
   "execution_count": 20,
   "id": "d3ef1668",
   "metadata": {},
   "outputs": [
    {
     "data": {
      "text/plain": [
       "(9360, 13)"
      ]
     },
     "execution_count": 20,
     "metadata": {},
     "output_type": "execute_result"
    }
   ],
   "source": [
    "storedata.shape"
   ]
  },
  {
   "cell_type": "markdown",
   "id": "33ea6b01",
   "metadata": {},
   "source": [
    "##  4:4 Price field is a string and has dollar symbol. Remove dollar sign, and convert it to numeric."
   ]
  },
  {
   "cell_type": "code",
   "execution_count": 21,
   "id": "bff357c0",
   "metadata": {},
   "outputs": [],
   "source": [
    "storedata.Price = storedata.Price.str.lstrip(\"$\").astype(float) \n",
    "#removing \"$\" sign from \"Price\" field and converting it int."
   ]
  },
  {
   "cell_type": "code",
   "execution_count": 22,
   "id": "d3494ef7",
   "metadata": {},
   "outputs": [
    {
     "data": {
      "text/plain": [
       "dtype('float64')"
      ]
     },
     "execution_count": 22,
     "metadata": {},
     "output_type": "execute_result"
    }
   ],
   "source": [
    "storedata.Price.dtypes"
   ]
  },
  {
   "cell_type": "code",
   "execution_count": 23,
   "id": "62aeec9a",
   "metadata": {},
   "outputs": [
    {
     "data": {
      "text/plain": [
       "0    0.0\n",
       "1    0.0\n",
       "2    0.0\n",
       "3    0.0\n",
       "4    0.0\n",
       "Name: Price, dtype: float64"
      ]
     },
     "execution_count": 23,
     "metadata": {},
     "output_type": "execute_result"
    }
   ],
   "source": [
    "storedata['Price'].head()"
   ]
  },
  {
   "cell_type": "code",
   "execution_count": 24,
   "id": "daec4b7d",
   "metadata": {},
   "outputs": [
    {
     "data": {
      "text/plain": [
       "(9360, 13)"
      ]
     },
     "execution_count": 24,
     "metadata": {},
     "output_type": "execute_result"
    }
   ],
   "source": [
    "storedata.shape"
   ]
  },
  {
   "cell_type": "markdown",
   "id": "d5116a63",
   "metadata": {},
   "source": [
    "# 5: Sanity checks:"
   ]
  },
  {
   "cell_type": "markdown",
   "id": "658fd116",
   "metadata": {},
   "source": [
    "## 5:1 Average rating should be between 1 and 5 as only these values are allowed on the play store. \n",
    "\n",
    "Drop the rows that have a value outside this range."
   ]
  },
  {
   "cell_type": "code",
   "execution_count": 25,
   "id": "4b743b34",
   "metadata": {},
   "outputs": [
    {
     "data": {
      "text/plain": [
       "(Empty DataFrame\n",
       " Columns: [App, Category, Rating, Reviews, Size, Installs, Type, Price, Content Rating, Genres, Last Updated, Current Ver, Android Ver]\n",
       " Index: [],\n",
       " Empty DataFrame\n",
       " Columns: [App, Category, Rating, Reviews, Size, Installs, Type, Price, Content Rating, Genres, Last Updated, Current Ver, Android Ver]\n",
       " Index: [])"
      ]
     },
     "execution_count": 25,
     "metadata": {},
     "output_type": "execute_result"
    }
   ],
   "source": [
    "df_filtered = storedata[storedata['Rating'] < 1],storedata[storedata['Rating'] >5]\n",
    "df_filtered\n",
    "#\"Rating\" field has no value <1 and  >5 it seems, because when I checked the shape before and after it is the same.\n"
   ]
  },
  {
   "cell_type": "code",
   "execution_count": 26,
   "id": "24e14dfd",
   "metadata": {},
   "outputs": [
    {
     "data": {
      "text/plain": [
       "(9360, 13)"
      ]
     },
     "execution_count": 26,
     "metadata": {},
     "output_type": "execute_result"
    }
   ],
   "source": [
    "storedata.shape"
   ]
  },
  {
   "cell_type": "markdown",
   "id": "71e6e8c6",
   "metadata": {},
   "source": [
    "## 5:2 Reviews should not be more than installs as only those who installed can review the app. \n",
    "\n",
    "If there are any such records, drop them.\n",
    "\n"
   ]
  },
  {
   "cell_type": "code",
   "execution_count": 27,
   "id": "6c7743fb",
   "metadata": {},
   "outputs": [
    {
     "data": {
      "text/plain": [
       "(9360, 13)"
      ]
     },
     "execution_count": 27,
     "metadata": {},
     "output_type": "execute_result"
    }
   ],
   "source": [
    "storedata.shape"
   ]
  },
  {
   "cell_type": "code",
   "execution_count": 28,
   "id": "f5be6f01",
   "metadata": {},
   "outputs": [
    {
     "name": "stdout",
     "output_type": "stream",
     "text": [
      "None\n",
      "(9353, 13)\n"
     ]
    }
   ],
   "source": [
    "temp = storedata.drop(storedata[(storedata.Reviews) > (storedata.Installs)].index, inplace=True, axis=0)\n",
    "print(temp)\n",
    "print(storedata.shape)\n",
    "# 7 Review field had value more than Installs, which has been dropped."
   ]
  },
  {
   "cell_type": "markdown",
   "id": "0c43decb",
   "metadata": {},
   "source": [
    "## 5:3For free apps (type = “Free”), the price should not be >0. Drop any such rows"
   ]
  },
  {
   "cell_type": "code",
   "execution_count": 29,
   "id": "b929ced5",
   "metadata": {},
   "outputs": [
    {
     "name": "stdout",
     "output_type": "stream",
     "text": [
      "None\n"
     ]
    }
   ],
   "source": [
    "temp1 = storedata.drop(storedata[(storedata.Type=='Free') & (storedata.Price>0)].index, inplace=True,axis=0)\n",
    "print(temp1)\n",
    "# No Free App is having Price less than 0."
   ]
  },
  {
   "cell_type": "code",
   "execution_count": 30,
   "id": "a227afd9",
   "metadata": {},
   "outputs": [
    {
     "data": {
      "text/plain": [
       "(9353, 13)"
      ]
     },
     "execution_count": 30,
     "metadata": {},
     "output_type": "execute_result"
    }
   ],
   "source": [
    "storedata.shape"
   ]
  },
  {
   "cell_type": "markdown",
   "id": "ff5d449c",
   "metadata": {},
   "source": [
    "## 5: Performing univariate analysis: \n",
    "\n",
    "###  - Boxplot for Price\n",
    "\n",
    "- Are there any outliers? Think about the price of usual apps on Play Store.\n"
   ]
  },
  {
   "cell_type": "code",
   "execution_count": 31,
   "id": "4c62a5f0",
   "metadata": {},
   "outputs": [],
   "source": [
    "import matplotlib.pyplot as plt\n",
    "%matplotlib inline\n",
    "import seaborn as sns"
   ]
  },
  {
   "cell_type": "code",
   "execution_count": 32,
   "id": "7c1246f6",
   "metadata": {},
   "outputs": [
    {
     "data": {
      "text/plain": [
       "<seaborn.axisgrid.PairGrid at 0x2d96ad38130>"
      ]
     },
     "execution_count": 32,
     "metadata": {},
     "output_type": "execute_result"
    },
    {
     "data": {
      "image/png": "[encoded data removed]",
      "text/plain": [
       "<Figure size 900x900 with 30 Axes>"
      ]
     },
     "metadata": {
      "needs_background": "light"
     },
     "output_type": "display_data"
    }
   ],
   "source": [
    "sns.pairplot(storedata)\n",
    "# pairplot shows all possible relationship among all the variables."
   ]
  },
  {
   "cell_type": "code",
   "execution_count": 33,
   "id": "3d32d5dd",
   "metadata": {},
   "outputs": [
    {
     "data": {
      "text/plain": [
       "{'whiskers': [<matplotlib.lines.Line2D at 0x2d97e5fd280>,\n",
       "  <matplotlib.lines.Line2D at 0x2d97e60da60>],\n",
       " 'caps': [<matplotlib.lines.Line2D at 0x2d97e60d490>,\n",
       "  <matplotlib.lines.Line2D at 0x2d97e61da30>],\n",
       " 'boxes': [<matplotlib.lines.Line2D at 0x2d97e5fdfa0>],\n",
       " 'medians': [<matplotlib.lines.Line2D at 0x2d97e62efa0>],\n",
       " 'fliers': [<matplotlib.lines.Line2D at 0x2d97e62e280>],\n",
       " 'means': []}"
      ]
     },
     "execution_count": 33,
     "metadata": {},
     "output_type": "execute_result"
    },
    {
     "data": {
      "image/png": "[encoded data removed]",
      "text/plain": [
       "<Figure size 1080x360 with 1 Axes>"
      ]
     },
     "metadata": {
      "needs_background": "light"
     },
     "output_type": "display_data"
    }
   ],
   "source": [
    "plt.figure(figsize=(15,5))\n",
    "plt.boxplot(storedata['Price'])\n",
    "# boxplot shows that Price field is having outliers."
   ]
  },
  {
   "cell_type": "markdown",
   "id": "b2950fa7",
   "metadata": {},
   "source": [
    "## Boxplot for Reviews\n",
    "\n",
    "- Are there any apps with very high number of reviews? Do the values seem right?\n"
   ]
  },
  {
   "cell_type": "code",
   "execution_count": 34,
   "id": "15c56ef8",
   "metadata": {},
   "outputs": [
    {
     "data": {
      "text/plain": [
       "{'whiskers': [<matplotlib.lines.Line2D at 0x2d97e7c9f40>,\n",
       "  <matplotlib.lines.Line2D at 0x2d97e7c9220>],\n",
       " 'caps': [<matplotlib.lines.Line2D at 0x2d97e7daa00>,\n",
       "  <matplotlib.lines.Line2D at 0x2d97e7da730>],\n",
       " 'boxes': [<matplotlib.lines.Line2D at 0x2d97e7b8700>],\n",
       " 'medians': [<matplotlib.lines.Line2D at 0x2d97e7eaa30>],\n",
       " 'fliers': [<matplotlib.lines.Line2D at 0x2d97e7fbf70>],\n",
       " 'means': []}"
      ]
     },
     "execution_count": 34,
     "metadata": {},
     "output_type": "execute_result"
    },
    {
     "data": {
      "image/png": "[encoded data removed]",
      "text/plain": [
       "<Figure size 1080x360 with 1 Axes>"
      ]
     },
     "metadata": {
      "needs_background": "light"
     },
     "output_type": "display_data"
    }
   ],
   "source": [
    "plt.figure(figsize=(15,5))\n",
    "plt.boxplot(storedata['Reviews'])\n",
    "#Reviews field is also having outliers.\n",
    "# There is having fewer apps where reviews are higher number"
   ]
  },
  {
   "cell_type": "markdown",
   "id": "76322e8a",
   "metadata": {},
   "source": [
    "## Histogram for Rating\n",
    "\n",
    "How are the ratings distributed? Is it more toward higher ratings?\n",
    "\n"
   ]
  },
  {
   "cell_type": "code",
   "execution_count": 35,
   "id": "6bf6d441",
   "metadata": {},
   "outputs": [
    {
     "data": {
      "text/plain": [
       "(array([  17.,   18.,   41.,   74.,  137.,  445.,  879., 1660., 4172.,\n",
       "        1910.]),\n",
       " array([1. , 1.4, 1.8, 2.2, 2.6, 3. , 3.4, 3.8, 4.2, 4.6, 5. ]),\n",
       " <BarContainer object of 10 artists>)"
      ]
     },
     "execution_count": 35,
     "metadata": {},
     "output_type": "execute_result"
    },
    {
     "data": {
      "image/png": "[encoded data removed]",
      "text/plain": [
       "<Figure size 1080x360 with 1 Axes>"
      ]
     },
     "metadata": {
      "needs_background": "light"
     },
     "output_type": "display_data"
    }
   ],
   "source": [
    "plt.figure(figsize=(15,5))\n",
    "plt.hist(storedata.Rating)\n",
    "# The rating is not noramlly distributed because there is left skew and \n",
    "#the rating values is more towards higher ratings."
   ]
  },
  {
   "cell_type": "markdown",
   "id": "5d679305",
   "metadata": {},
   "source": [
    "## Histogram for Size\n",
    "\n",
    "Note down your observations for the plots made above. Which of these seem to have outliers?\n",
    "\n",
    " \n",
    "\n"
   ]
  },
  {
   "cell_type": "code",
   "execution_count": 36,
   "id": "dcdb3499",
   "metadata": {},
   "outputs": [
    {
     "data": {
      "text/plain": [
       "(array([4779., 1386., 1036.,  617.,  464.,  334.,  234.,  174.,  125.,\n",
       "         204.]),\n",
       " array([     0.,  10000.,  20000.,  30000.,  40000.,  50000.,  60000.,\n",
       "         70000.,  80000.,  90000., 100000.]),\n",
       " <BarContainer object of 10 artists>)"
      ]
     },
     "execution_count": 36,
     "metadata": {},
     "output_type": "execute_result"
    },
    {
     "data": {
      "image/png": "[encoded data removed]",
      "text/plain": [
       "<Figure size 1080x360 with 1 Axes>"
      ]
     },
     "metadata": {
      "needs_background": "light"
     },
     "output_type": "display_data"
    }
   ],
   "source": [
    "plt.figure(figsize=(15,5))\n",
    "plt.hist(storedata.Size)\n",
    "# Size column is not normally distributed because it is having right skew."
   ]
  },
  {
   "cell_type": "markdown",
   "id": "d9c9f46a",
   "metadata": {},
   "source": [
    "## 6:1 Price: From the box plot, it seems like there are some apps with very high price. A price of $200 for an application on the Play Store is very high and suspicious!\n",
    "\n",
    "6:1: Check out the records with very high price\n",
    "\n",
    "6:1:1 Is 200 indeed a high price?\n",
    "\n",
    "6:1:2 Drop these as most seem to be junk apps"
   ]
  },
  {
   "cell_type": "code",
   "execution_count": 37,
   "id": "952696d5",
   "metadata": {},
   "outputs": [
    {
     "data": {
      "text/html": [
       "<div>\n",
       "<style scoped>\n",
       "    .dataframe tbody tr th:only-of-type {\n",
       "        vertical-align: middle;\n",
       "    }\n",
       "\n",
       "    .dataframe tbody tr th {\n",
       "        vertical-align: top;\n",
       "    }\n",
       "\n",
       "    .dataframe thead th {\n",
       "        text-align: right;\n",
       "    }\n",
       "</style>\n",
       "<table border=\"1\" class=\"dataframe\">\n",
       "  <thead>\n",
       "    <tr style=\"text-align: right;\">\n",
       "      <th></th>\n",
       "      <th>Rating</th>\n",
       "      <th>Reviews</th>\n",
       "      <th>Size</th>\n",
       "      <th>Installs</th>\n",
       "      <th>Price</th>\n",
       "    </tr>\n",
       "  </thead>\n",
       "  <tbody>\n",
       "    <tr>\n",
       "      <th>count</th>\n",
       "      <td>9353.000000</td>\n",
       "      <td>9.353000e+03</td>\n",
       "      <td>9353.000000</td>\n",
       "      <td>9.353000e+03</td>\n",
       "      <td>9353.000000</td>\n",
       "    </tr>\n",
       "    <tr>\n",
       "      <th>mean</th>\n",
       "      <td>4.191254</td>\n",
       "      <td>5.147606e+05</td>\n",
       "      <td>18957.610660</td>\n",
       "      <td>1.792215e+07</td>\n",
       "      <td>0.961467</td>\n",
       "    </tr>\n",
       "    <tr>\n",
       "      <th>std</th>\n",
       "      <td>0.515010</td>\n",
       "      <td>3.146169e+06</td>\n",
       "      <td>23025.327915</td>\n",
       "      <td>9.129920e+07</td>\n",
       "      <td>15.827539</td>\n",
       "    </tr>\n",
       "    <tr>\n",
       "      <th>min</th>\n",
       "      <td>1.000000</td>\n",
       "      <td>1.000000e+00</td>\n",
       "      <td>0.000000</td>\n",
       "      <td>5.000000e+00</td>\n",
       "      <td>0.000000</td>\n",
       "    </tr>\n",
       "    <tr>\n",
       "      <th>25%</th>\n",
       "      <td>4.000000</td>\n",
       "      <td>1.870000e+02</td>\n",
       "      <td>2400.000000</td>\n",
       "      <td>1.000000e+04</td>\n",
       "      <td>0.000000</td>\n",
       "    </tr>\n",
       "    <tr>\n",
       "      <th>50%</th>\n",
       "      <td>4.300000</td>\n",
       "      <td>5.967000e+03</td>\n",
       "      <td>9500.000000</td>\n",
       "      <td>5.000000e+05</td>\n",
       "      <td>0.000000</td>\n",
       "    </tr>\n",
       "    <tr>\n",
       "      <th>75%</th>\n",
       "      <td>4.500000</td>\n",
       "      <td>8.174700e+04</td>\n",
       "      <td>27000.000000</td>\n",
       "      <td>5.000000e+06</td>\n",
       "      <td>0.000000</td>\n",
       "    </tr>\n",
       "    <tr>\n",
       "      <th>max</th>\n",
       "      <td>5.000000</td>\n",
       "      <td>7.815831e+07</td>\n",
       "      <td>100000.000000</td>\n",
       "      <td>1.000000e+09</td>\n",
       "      <td>400.000000</td>\n",
       "    </tr>\n",
       "  </tbody>\n",
       "</table>\n",
       "</div>"
      ],
      "text/plain": [
       "            Rating       Reviews           Size      Installs        Price\n",
       "count  9353.000000  9.353000e+03    9353.000000  9.353000e+03  9353.000000\n",
       "mean      4.191254  5.147606e+05   18957.610660  1.792215e+07     0.961467\n",
       "std       0.515010  3.146169e+06   23025.327915  9.129920e+07    15.827539\n",
       "min       1.000000  1.000000e+00       0.000000  5.000000e+00     0.000000\n",
       "25%       4.000000  1.870000e+02    2400.000000  1.000000e+04     0.000000\n",
       "50%       4.300000  5.967000e+03    9500.000000  5.000000e+05     0.000000\n",
       "75%       4.500000  8.174700e+04   27000.000000  5.000000e+06     0.000000\n",
       "max       5.000000  7.815831e+07  100000.000000  1.000000e+09   400.000000"
      ]
     },
     "execution_count": 37,
     "metadata": {},
     "output_type": "execute_result"
    }
   ],
   "source": [
    "storedata.describe()"
   ]
  },
  {
   "cell_type": "code",
   "execution_count": 38,
   "id": "5afde9b5",
   "metadata": {},
   "outputs": [
    {
     "name": "stdout",
     "output_type": "stream",
     "text": [
      "0.0\n",
      "0.0\n"
     ]
    }
   ],
   "source": [
    "#Outlier Treatment\n",
    "Q1=np.percentile(storedata['Price'],25)\n",
    "Q3=np.percentile(storedata['Price'],75)\n",
    "print(Q1)\n",
    "print(Q3)\n",
    "IQR = Q3-Q1"
   ]
  },
  {
   "cell_type": "code",
   "execution_count": 39,
   "id": "c2a57097",
   "metadata": {
    "scrolled": false
   },
   "outputs": [
    {
     "name": "stdout",
     "output_type": "stream",
     "text": [
      "[  4.99   3.99   6.99   7.99   5.99   2.99   3.49   1.99   9.99   7.49\n",
      "   0.99   9.     5.49  10.    24.99  11.99  79.99  16.99  14.99  29.99\n",
      "  12.99   2.49  10.99   1.5   19.99  15.99  33.99  39.99   3.95   4.49\n",
      "   1.7    8.99   1.49   3.88 399.99  17.99 400.     3.02   1.76   4.84\n",
      "   4.77   1.61   2.5    1.59   6.49   1.29 299.99 379.99  37.99  18.99\n",
      " 389.99   8.49   1.75  14.     2.     3.08   2.59  19.4    3.9    4.59\n",
      "  15.46   3.04  13.99   4.29   3.28   4.6    1.     2.95   2.9    1.97\n",
      "   2.56   1.2 ]\n"
     ]
    }
   ],
   "source": [
    "outlier = storedata.Price[(storedata['Price'] > Q3+1.5*IQR) | (storedata['Price'] < Q1-1.5*IQR)]\n",
    "print(outlier.unique())"
   ]
  },
  {
   "cell_type": "code",
   "execution_count": 40,
   "id": "32853415",
   "metadata": {},
   "outputs": [
    {
     "data": {
      "text/plain": [
       "(9353, 13)"
      ]
     },
     "execution_count": 40,
     "metadata": {},
     "output_type": "execute_result"
    }
   ],
   "source": [
    "storedata.shape"
   ]
  },
  {
   "cell_type": "code",
   "execution_count": 41,
   "id": "8e985504",
   "metadata": {},
   "outputs": [
    {
     "name": "stdout",
     "output_type": "stream",
     "text": [
      "(15, 13)\n",
      "None\n"
     ]
    }
   ],
   "source": [
    "print(storedata[storedata.Price>200].shape)\n",
    "\n",
    "price_outliers = storedata[storedata.Price>200].index\n",
    "print(storedata.drop(labels=price_outliers, inplace=True))\n",
    "\n",
    "#I am putting all the values more than $200 from Price col into a different variable (Price_outlier) and dropping it.\n",
    "#I got 15 records where value is more than $200 in price col."
   ]
  },
  {
   "cell_type": "code",
   "execution_count": 42,
   "id": "0f64d635",
   "metadata": {},
   "outputs": [
    {
     "data": {
      "text/plain": [
       "(9338, 13)"
      ]
     },
     "execution_count": 42,
     "metadata": {},
     "output_type": "execute_result"
    }
   ],
   "source": [
    "storedata.shape\n",
    "#After dropping the records my new shape is 9338,13."
   ]
  },
  {
   "cell_type": "markdown",
   "id": "ad4d1fc2",
   "metadata": {},
   "source": [
    "### 6:2 Reviews: Very few apps have very high number of reviews. \n",
    "    \n",
    "These are all star apps that don’t help with the analysis and, in fact, will skew it. \n",
    "\n",
    "Drop records having more than 2 million reviews.\n",
    "\n"
   ]
  },
  {
   "cell_type": "code",
   "execution_count": 43,
   "id": "43892fd3",
   "metadata": {},
   "outputs": [
    {
     "data": {
      "text/plain": [
       "0       159\n",
       "1       967\n",
       "2     87510\n",
       "3    215644\n",
       "4       967\n",
       "Name: Reviews, dtype: int32"
      ]
     },
     "execution_count": 43,
     "metadata": {},
     "output_type": "execute_result"
    }
   ],
   "source": [
    "storedata.Reviews.head()"
   ]
  },
  {
   "cell_type": "code",
   "execution_count": 44,
   "id": "26f712da",
   "metadata": {},
   "outputs": [
    {
     "data": {
      "text/plain": [
       "count    9.338000e+03\n",
       "mean     5.155865e+05\n",
       "std      3.148627e+06\n",
       "min      1.000000e+00\n",
       "25%      1.880000e+02\n",
       "50%      6.009000e+03\n",
       "75%      8.247100e+04\n",
       "max      7.815831e+07\n",
       "Name: Reviews, dtype: float64"
      ]
     },
     "execution_count": 44,
     "metadata": {},
     "output_type": "execute_result"
    }
   ],
   "source": [
    "storedata['Reviews'].describe()"
   ]
  },
  {
   "cell_type": "code",
   "execution_count": 45,
   "id": "ef956333",
   "metadata": {},
   "outputs": [
    {
     "data": {
      "text/plain": [
       "(9338, 13)"
      ]
     },
     "execution_count": 45,
     "metadata": {},
     "output_type": "execute_result"
    }
   ],
   "source": [
    "storedata.shape"
   ]
  },
  {
   "cell_type": "code",
   "execution_count": 46,
   "id": "72d15b27",
   "metadata": {},
   "outputs": [
    {
     "name": "stdout",
     "output_type": "stream",
     "text": [
      "82283.0\n"
     ]
    }
   ],
   "source": [
    "# Outlier Treatment\n",
    "Q1 = np.percentile(storedata.Reviews,25)\n",
    "Q3 = np.percentile(storedata.Reviews,75)\n",
    "IQR = Q3-Q1\n",
    "print(IQR)"
   ]
  },
  {
   "cell_type": "code",
   "execution_count": 47,
   "id": "fa0c666c",
   "metadata": {},
   "outputs": [
    {
     "name": "stdout",
     "output_type": "stream",
     "text": [
      "(1628, 13)\n"
     ]
    }
   ],
   "source": [
    "reviews_outliers = storedata[(storedata.Reviews>Q3+1.5*IQR) | (storedata.Reviews<Q1-1.5*IQR)]\n",
    "print(reviews_outliers.shape)"
   ]
  },
  {
   "cell_type": "code",
   "execution_count": 48,
   "id": "fb987832",
   "metadata": {},
   "outputs": [
    {
     "data": {
      "text/plain": [
       "{'whiskers': [<matplotlib.lines.Line2D at 0x2d97c601190>,\n",
       "  <matplotlib.lines.Line2D at 0x2d97c5d2820>],\n",
       " 'caps': [<matplotlib.lines.Line2D at 0x2d97c66ddf0>,\n",
       "  <matplotlib.lines.Line2D at 0x2d97c66d1f0>],\n",
       " 'boxes': [<matplotlib.lines.Line2D at 0x2d97c6018e0>],\n",
       " 'medians': [<matplotlib.lines.Line2D at 0x2d97c64e8e0>],\n",
       " 'fliers': [<matplotlib.lines.Line2D at 0x2d97c64e730>],\n",
       " 'means': []}"
      ]
     },
     "execution_count": 48,
     "metadata": {},
     "output_type": "execute_result"
    },
    {
     "data": {
      "image/png": "[encoded data removed]",
      "text/plain": [
       "<Figure size 432x288 with 1 Axes>"
      ]
     },
     "metadata": {
      "needs_background": "light"
     },
     "output_type": "display_data"
    }
   ],
   "source": [
    "plt.boxplot(storedata.Reviews)"
   ]
  },
  {
   "cell_type": "code",
   "execution_count": 49,
   "id": "6dc3b536",
   "metadata": {},
   "outputs": [],
   "source": [
    "# Dropping all those values which are greater than 2 million.\n",
    "higher_values = storedata[storedata.Reviews > 2000000].index"
   ]
  },
  {
   "cell_type": "code",
   "execution_count": 50,
   "id": "126e8d32",
   "metadata": {},
   "outputs": [],
   "source": [
    "storedata.drop(labels=higher_values,inplace=True)"
   ]
  },
  {
   "cell_type": "code",
   "execution_count": 51,
   "id": "e0235baa",
   "metadata": {},
   "outputs": [
    {
     "data": {
      "text/plain": [
       "(8885, 13)"
      ]
     },
     "execution_count": 51,
     "metadata": {},
     "output_type": "execute_result"
    }
   ],
   "source": [
    "storedata.shape"
   ]
  },
  {
   "cell_type": "code",
   "execution_count": 52,
   "id": "1d166734",
   "metadata": {},
   "outputs": [
    {
     "data": {
      "text/plain": [
       "{'whiskers': [<matplotlib.lines.Line2D at 0x2d97db9cc40>,\n",
       "  <matplotlib.lines.Line2D at 0x2d97db9c130>],\n",
       " 'caps': [<matplotlib.lines.Line2D at 0x2d97dbc9ac0>,\n",
       "  <matplotlib.lines.Line2D at 0x2d97dbc9760>],\n",
       " 'boxes': [<matplotlib.lines.Line2D at 0x2d97db7c220>],\n",
       " 'medians': [<matplotlib.lines.Line2D at 0x2d97dbf9b20>],\n",
       " 'fliers': [<matplotlib.lines.Line2D at 0x2d97dc170a0>],\n",
       " 'means': []}"
      ]
     },
     "execution_count": 52,
     "metadata": {},
     "output_type": "execute_result"
    },
    {
     "data": {
      "image/png": "[encoded data removed]",
      "text/plain": [
       "<Figure size 1080x360 with 1 Axes>"
      ]
     },
     "metadata": {
      "needs_background": "light"
     },
     "output_type": "display_data"
    }
   ],
   "source": [
    "plt.figure(figsize=(15,5))\n",
    "plt.boxplot(storedata.Reviews)"
   ]
  },
  {
   "cell_type": "markdown",
   "id": "6e34039e",
   "metadata": {},
   "source": [
    "## 6:3 Installs:  There seems to be some outliers in this field too. Apps having very high number of installs should be dropped from the analysis.\n",
    "\n",
    "6:3:1 Find out the different percentiles – 10, 25, 50, 70, 90, 95, 99\n",
    "\n",
    "6:3:2 Decide a threshold as cutoff for outlier and drop records having values more than that"
   ]
  },
  {
   "cell_type": "code",
   "execution_count": 53,
   "id": "c9ae942b",
   "metadata": {},
   "outputs": [],
   "source": [
    "from scipy import stats"
   ]
  },
  {
   "cell_type": "code",
   "execution_count": 54,
   "id": "4c53514a",
   "metadata": {},
   "outputs": [
    {
     "name": "stdout",
     "output_type": "stream",
     "text": [
      "[1.e+03 1.e+04 5.e+05 1.e+06 1.e+07 1.e+07 1.e+08]\n"
     ]
    }
   ],
   "source": [
    "#Find out the different percentiles – 10, 25, 50, 70, 90, 95, 99\n",
    "\n",
    "inst_percentage = np.percentile(storedata['Installs'],[10, 25, 50, 70, 90, 95, 99])\n",
    "print(inst_percentage)"
   ]
  },
  {
   "cell_type": "code",
   "execution_count": 55,
   "id": "d93d3b04",
   "metadata": {},
   "outputs": [
    {
     "name": "stdout",
     "output_type": "stream",
     "text": [
      "None\n"
     ]
    }
   ],
   "source": [
    "higher_values = storedata[storedata.Installs > 4000000].index\n",
    "print(storedata.drop(higher_values, inplace = True))\n",
    "\n",
    "#I have decided threshold value 4000000 for installs.\n",
    "# Dropped records from Installs col which have value more than 4000000."
   ]
  },
  {
   "cell_type": "code",
   "execution_count": 56,
   "id": "456e73fa",
   "metadata": {},
   "outputs": [
    {
     "data": {
      "text/plain": [
       "{'whiskers': [<matplotlib.lines.Line2D at 0x2d974c09a60>,\n",
       "  <matplotlib.lines.Line2D at 0x2d97e9a7820>],\n",
       " 'caps': [<matplotlib.lines.Line2D at 0x2d97e9a7790>,\n",
       "  <matplotlib.lines.Line2D at 0x2d97dff3400>],\n",
       " 'boxes': [<matplotlib.lines.Line2D at 0x2d974beec10>],\n",
       " 'medians': [<matplotlib.lines.Line2D at 0x2d97eb00d30>],\n",
       " 'fliers': [<matplotlib.lines.Line2D at 0x2d97eb001c0>],\n",
       " 'means': []}"
      ]
     },
     "execution_count": 56,
     "metadata": {},
     "output_type": "execute_result"
    },
    {
     "data": {
      "image/png": "[encoded data removed]",
      "text/plain": [
       "<Figure size 432x288 with 1 Axes>"
      ]
     },
     "metadata": {
      "needs_background": "light"
     },
     "output_type": "display_data"
    }
   ],
   "source": [
    "plt.boxplot(storedata.Installs)"
   ]
  },
  {
   "cell_type": "code",
   "execution_count": 57,
   "id": "48739e2e",
   "metadata": {},
   "outputs": [
    {
     "data": {
      "text/html": [
       "<div>\n",
       "<style scoped>\n",
       "    .dataframe tbody tr th:only-of-type {\n",
       "        vertical-align: middle;\n",
       "    }\n",
       "\n",
       "    .dataframe tbody tr th {\n",
       "        vertical-align: top;\n",
       "    }\n",
       "\n",
       "    .dataframe thead th {\n",
       "        text-align: right;\n",
       "    }\n",
       "</style>\n",
       "<table border=\"1\" class=\"dataframe\">\n",
       "  <thead>\n",
       "    <tr style=\"text-align: right;\">\n",
       "      <th></th>\n",
       "      <th>Rating</th>\n",
       "      <th>Reviews</th>\n",
       "      <th>Size</th>\n",
       "      <th>Installs</th>\n",
       "      <th>Price</th>\n",
       "    </tr>\n",
       "  </thead>\n",
       "  <tbody>\n",
       "    <tr>\n",
       "      <th>count</th>\n",
       "      <td>6506.000000</td>\n",
       "      <td>6506.000000</td>\n",
       "      <td>6506.000000</td>\n",
       "      <td>6506.000000</td>\n",
       "      <td>6506.000000</td>\n",
       "    </tr>\n",
       "    <tr>\n",
       "      <th>mean</th>\n",
       "      <td>4.139179</td>\n",
       "      <td>9570.197510</td>\n",
       "      <td>17686.647940</td>\n",
       "      <td>306741.901322</td>\n",
       "      <td>0.477678</td>\n",
       "    </tr>\n",
       "    <tr>\n",
       "      <th>std</th>\n",
       "      <td>0.582584</td>\n",
       "      <td>22904.190881</td>\n",
       "      <td>20629.452985</td>\n",
       "      <td>413243.643015</td>\n",
       "      <td>2.584501</td>\n",
       "    </tr>\n",
       "    <tr>\n",
       "      <th>min</th>\n",
       "      <td>1.000000</td>\n",
       "      <td>1.000000</td>\n",
       "      <td>0.000000</td>\n",
       "      <td>5.000000</td>\n",
       "      <td>0.000000</td>\n",
       "    </tr>\n",
       "    <tr>\n",
       "      <th>25%</th>\n",
       "      <td>3.900000</td>\n",
       "      <td>63.000000</td>\n",
       "      <td>3300.000000</td>\n",
       "      <td>5000.000000</td>\n",
       "      <td>0.000000</td>\n",
       "    </tr>\n",
       "    <tr>\n",
       "      <th>50%</th>\n",
       "      <td>4.200000</td>\n",
       "      <td>754.000000</td>\n",
       "      <td>9300.000000</td>\n",
       "      <td>100000.000000</td>\n",
       "      <td>0.000000</td>\n",
       "    </tr>\n",
       "    <tr>\n",
       "      <th>75%</th>\n",
       "      <td>4.500000</td>\n",
       "      <td>7960.500000</td>\n",
       "      <td>25000.000000</td>\n",
       "      <td>500000.000000</td>\n",
       "      <td>0.000000</td>\n",
       "    </tr>\n",
       "    <tr>\n",
       "      <th>max</th>\n",
       "      <td>5.000000</td>\n",
       "      <td>376223.000000</td>\n",
       "      <td>100000.000000</td>\n",
       "      <td>1000000.000000</td>\n",
       "      <td>79.990000</td>\n",
       "    </tr>\n",
       "  </tbody>\n",
       "</table>\n",
       "</div>"
      ],
      "text/plain": [
       "            Rating        Reviews           Size        Installs        Price\n",
       "count  6506.000000    6506.000000    6506.000000     6506.000000  6506.000000\n",
       "mean      4.139179    9570.197510   17686.647940   306741.901322     0.477678\n",
       "std       0.582584   22904.190881   20629.452985   413243.643015     2.584501\n",
       "min       1.000000       1.000000       0.000000        5.000000     0.000000\n",
       "25%       3.900000      63.000000    3300.000000     5000.000000     0.000000\n",
       "50%       4.200000     754.000000    9300.000000   100000.000000     0.000000\n",
       "75%       4.500000    7960.500000   25000.000000   500000.000000     0.000000\n",
       "max       5.000000  376223.000000  100000.000000  1000000.000000    79.990000"
      ]
     },
     "execution_count": 57,
     "metadata": {},
     "output_type": "execute_result"
    }
   ],
   "source": [
    "storedata.describe()"
   ]
  },
  {
   "cell_type": "code",
   "execution_count": 58,
   "id": "cf787f49",
   "metadata": {},
   "outputs": [
    {
     "data": {
      "text/plain": [
       "(6506, 13)"
      ]
     },
     "execution_count": 58,
     "metadata": {},
     "output_type": "execute_result"
    }
   ],
   "source": [
    "storedata.shape"
   ]
  },
  {
   "cell_type": "markdown",
   "id": "56ec22db",
   "metadata": {},
   "source": [
    "## 7: Bivariate analysis: Let’s look at how the available predictors relate to the variable of interest, i.e., our target variable rating. Make scatter plots (for numeric features) and box plots (for character features) to assess the relations between rating and the other features.\n",
    "\n",
    "### 7:1 Make scatter plot/joinplot for Rating vs. Price\n",
    "\n",
    "### 7:1:1 What pattern do you observe? Does rating increase with price?"
   ]
  },
  {
   "cell_type": "code",
   "execution_count": 59,
   "id": "ec01e407",
   "metadata": {},
   "outputs": [
    {
     "data": {
      "text/html": [
       "<div>\n",
       "<style scoped>\n",
       "    .dataframe tbody tr th:only-of-type {\n",
       "        vertical-align: middle;\n",
       "    }\n",
       "\n",
       "    .dataframe tbody tr th {\n",
       "        vertical-align: top;\n",
       "    }\n",
       "\n",
       "    .dataframe thead th {\n",
       "        text-align: right;\n",
       "    }\n",
       "</style>\n",
       "<table border=\"1\" class=\"dataframe\">\n",
       "  <thead>\n",
       "    <tr style=\"text-align: right;\">\n",
       "      <th></th>\n",
       "      <th>Rating</th>\n",
       "      <th>Reviews</th>\n",
       "      <th>Size</th>\n",
       "      <th>Installs</th>\n",
       "      <th>Price</th>\n",
       "    </tr>\n",
       "  </thead>\n",
       "  <tbody>\n",
       "    <tr>\n",
       "      <th>Rating</th>\n",
       "      <td>1.000000</td>\n",
       "      <td>0.143262</td>\n",
       "      <td>0.020782</td>\n",
       "      <td>0.083023</td>\n",
       "      <td>0.037068</td>\n",
       "    </tr>\n",
       "    <tr>\n",
       "      <th>Reviews</th>\n",
       "      <td>0.143262</td>\n",
       "      <td>1.000000</td>\n",
       "      <td>0.129941</td>\n",
       "      <td>0.586410</td>\n",
       "      <td>-0.035443</td>\n",
       "    </tr>\n",
       "    <tr>\n",
       "      <th>Size</th>\n",
       "      <td>0.020782</td>\n",
       "      <td>0.129941</td>\n",
       "      <td>1.000000</td>\n",
       "      <td>0.135565</td>\n",
       "      <td>0.026597</td>\n",
       "    </tr>\n",
       "    <tr>\n",
       "      <th>Installs</th>\n",
       "      <td>0.083023</td>\n",
       "      <td>0.586410</td>\n",
       "      <td>0.135565</td>\n",
       "      <td>1.000000</td>\n",
       "      <td>-0.115303</td>\n",
       "    </tr>\n",
       "    <tr>\n",
       "      <th>Price</th>\n",
       "      <td>0.037068</td>\n",
       "      <td>-0.035443</td>\n",
       "      <td>0.026597</td>\n",
       "      <td>-0.115303</td>\n",
       "      <td>1.000000</td>\n",
       "    </tr>\n",
       "  </tbody>\n",
       "</table>\n",
       "</div>"
      ],
      "text/plain": [
       "            Rating   Reviews      Size  Installs     Price\n",
       "Rating    1.000000  0.143262  0.020782  0.083023  0.037068\n",
       "Reviews   0.143262  1.000000  0.129941  0.586410 -0.035443\n",
       "Size      0.020782  0.129941  1.000000  0.135565  0.026597\n",
       "Installs  0.083023  0.586410  0.135565  1.000000 -0.115303\n",
       "Price     0.037068 -0.035443  0.026597 -0.115303  1.000000"
      ]
     },
     "execution_count": 59,
     "metadata": {},
     "output_type": "execute_result"
    }
   ],
   "source": [
    "storedata.corr()"
   ]
  },
  {
   "cell_type": "code",
   "execution_count": 60,
   "id": "c647c1ac",
   "metadata": {},
   "outputs": [],
   "source": [
    "import matplotlib.pyplot as plt\n",
    "import seaborn as sns\n",
    "import scipy.stats"
   ]
  },
  {
   "cell_type": "code",
   "execution_count": 61,
   "id": "f7fe791a",
   "metadata": {},
   "outputs": [
    {
     "name": "stderr",
     "output_type": "stream",
     "text": [
      "C:\\Users\\hp\\anaconda3\\lib\\site-packages\\seaborn\\_decorators.py:36: FutureWarning: Pass the following variables as keyword args: x, y. From version 0.12, the only valid positional argument will be `data`, and passing other arguments without an explicit keyword will result in an error or misinterpretation.\n",
      "  warnings.warn(\n"
     ]
    },
    {
     "data": {
      "text/plain": [
       "Text(0.0, 1.0, 'Rating vs Price')"
      ]
     },
     "execution_count": 61,
     "metadata": {},
     "output_type": "execute_result"
    },
    {
     "data": {
      "text/plain": [
       "<Figure size 1080x360 with 0 Axes>"
      ]
     },
     "metadata": {},
     "output_type": "display_data"
    },
    {
     "data": {
      "image/png": "[encoded data removed]",
      "text/plain": [
       "<Figure size 432x432 with 3 Axes>"
      ]
     },
     "metadata": {
      "needs_background": "light"
     },
     "output_type": "display_data"
    }
   ],
   "source": [
    "plt.figure(figsize=(15,5))\n",
    "sns.jointplot('Rating','Price',kind='scatter',data = storedata)\n",
    "plt.xlabel('Rating')\n",
    "plt.ylabel('Price')\n",
    "plt.title('Rating vs Price',loc='left', fontsize=30, color='red')"
   ]
  },
  {
   "cell_type": "markdown",
   "id": "8dbcee88",
   "metadata": {},
   "source": [
    "### It's explicitly illustrated that the rating is not increasing the price because both variables are less positively correlated and the value of positiveness is \"0.037068\""
   ]
  },
  {
   "cell_type": "markdown",
   "id": "b175eca9",
   "metadata": {},
   "source": [
    "## 7:2Make scatter plot/joinplot for Rating vs. Size\n",
    "\n",
    "### 7:2:1 Are heavier apps rated better?\n"
   ]
  },
  {
   "cell_type": "code",
   "execution_count": 62,
   "id": "f96cf8a3",
   "metadata": {},
   "outputs": [],
   "source": [
    "import scipy"
   ]
  },
  {
   "cell_type": "code",
   "execution_count": 63,
   "id": "a3f94026",
   "metadata": {
    "scrolled": true
   },
   "outputs": [
    {
     "data": {
      "text/plain": [
       "(0.020781510018186792, 0.09372038552361163)"
      ]
     },
     "execution_count": 63,
     "metadata": {},
     "output_type": "execute_result"
    }
   ],
   "source": [
    "correlation, p_value = scipy.stats.pearsonr(storedata.Rating,storedata.Size)\n",
    "correlation, p_value"
   ]
  },
  {
   "cell_type": "markdown",
   "id": "db9b183e",
   "metadata": {},
   "source": [
    "#### Both variables have less positive correlation"
   ]
  },
  {
   "cell_type": "code",
   "execution_count": 64,
   "id": "90fedade",
   "metadata": {},
   "outputs": [
    {
     "data": {
      "text/plain": [
       "Text(0.0, 1.0, 'Rating vs Size')"
      ]
     },
     "execution_count": 64,
     "metadata": {},
     "output_type": "execute_result"
    },
    {
     "data": {
      "text/plain": [
       "<Figure size 1080x360 with 0 Axes>"
      ]
     },
     "metadata": {},
     "output_type": "display_data"
    },
    {
     "data": {
      "image/png": "[encoded data removed]",
      "text/plain": [
       "<Figure size 432x432 with 3 Axes>"
      ]
     },
     "metadata": {
      "needs_background": "light"
     },
     "output_type": "display_data"
    }
   ],
   "source": [
    "plt.figure(figsize=(15,5))\n",
    "sns.jointplot(data=storedata, x=\"Rating\", y=\"Size\", kind = 'scatter')\n",
    "plt.xlabel('Rating')\n",
    "plt.ylabel('Size')\n",
    "plt.title('Rating vs Size',loc='left', fontsize=30, color='green')"
   ]
  },
  {
   "cell_type": "markdown",
   "id": "cd44dd97",
   "metadata": {},
   "source": [
    "### As explicitly illustrated that havier apps does not rate better"
   ]
  },
  {
   "cell_type": "markdown",
   "id": "a24e690a",
   "metadata": {},
   "source": [
    "## 7:3Make scatter plot/joinplot for Rating vs. Reviews\n",
    "\n",
    "### 7:3:1 Does more review mean a better rating always?"
   ]
  },
  {
   "cell_type": "code",
   "execution_count": 65,
   "id": "2627142f",
   "metadata": {},
   "outputs": [
    {
     "data": {
      "text/plain": [
       "(0.14326174919474388, 3.5319175063634705e-31)"
      ]
     },
     "execution_count": 65,
     "metadata": {},
     "output_type": "execute_result"
    }
   ],
   "source": [
    "correlation, p_value = scipy.stats.pearsonr(storedata.Rating,storedata.Reviews)\n",
    "correlation, p_value"
   ]
  },
  {
   "cell_type": "markdown",
   "id": "a45bb005",
   "metadata": {},
   "source": [
    "#### Both variables have positive correlation"
   ]
  },
  {
   "cell_type": "code",
   "execution_count": 66,
   "id": "c3d01483",
   "metadata": {
    "scrolled": false
   },
   "outputs": [
    {
     "data": {
      "text/plain": [
       "Text(0.0, 1.0, 'Rating vs Reviews')"
      ]
     },
     "execution_count": 66,
     "metadata": {},
     "output_type": "execute_result"
    },
    {
     "data": {
      "image/png": "[encoded data removed]",
      "text/plain": [
       "<Figure size 432x432 with 3 Axes>"
      ]
     },
     "metadata": {
      "needs_background": "light"
     },
     "output_type": "display_data"
    }
   ],
   "source": [
    "sns.jointplot(data=storedata, x=\"Rating\", y=\"Reviews\")\n",
    "plt.xlabel('Rating')\n",
    "plt.ylabel('Reviews')\n",
    "plt.title('Rating vs Reviews',loc='left', fontsize=30, color='blue')"
   ]
  },
  {
   "cell_type": "markdown",
   "id": "ea684a1f",
   "metadata": {},
   "source": [
    "### As we can see that Rating and Reviews are positively correlated. It shows, more Review means better Rating."
   ]
  },
  {
   "cell_type": "markdown",
   "id": "5f960f43",
   "metadata": {},
   "source": [
    "## 7:4 Make boxplot for Rating vs. Content Rating\n",
    "\n",
    "### 7:4:1 Is there any difference in the ratings? Are some types liked better?\n"
   ]
  },
  {
   "cell_type": "code",
   "execution_count": 67,
   "id": "c37130a8",
   "metadata": {},
   "outputs": [
    {
     "data": {
      "text/plain": [
       "Content Rating\n",
       "Adults only 18+    4.300000\n",
       "Everyone           4.137084\n",
       "Everyone 10+       4.173239\n",
       "Mature 17+         4.066561\n",
       "Teen               4.181280\n",
       "Unrated            4.100000\n",
       "Name: Rating, dtype: float64"
      ]
     },
     "execution_count": 67,
     "metadata": {},
     "output_type": "execute_result"
    }
   ],
   "source": [
    "storedata.groupby(['Content Rating'])['Rating'].mean()"
   ]
  },
  {
   "cell_type": "code",
   "execution_count": 68,
   "id": "33b82f2b",
   "metadata": {},
   "outputs": [
    {
     "data": {
      "text/plain": [
       "Text(0.5, 1.0, 'Content Rating vs Rating')"
      ]
     },
     "execution_count": 68,
     "metadata": {},
     "output_type": "execute_result"
    },
    {
     "data": {
      "image/png": "[encoded data removed]",
      "text/plain": [
       "<Figure size 1080x648 with 1 Axes>"
      ]
     },
     "metadata": {
      "needs_background": "light"
     },
     "output_type": "display_data"
    }
   ],
   "source": [
    "plt.figure(figsize=(15,9))\n",
    "sns.boxplot(x ='Content Rating', y = 'Rating' , data = storedata)\n",
    "plt.xlabel('Content Rating')\n",
    "plt.ylabel('Rating')\n",
    "plt.title('Content Rating vs Rating',loc='center', fontsize=30, color='red')"
   ]
  },
  {
   "cell_type": "markdown",
   "id": "defa408b",
   "metadata": {},
   "source": [
    "### By seeing below boxplot I can say that Adult only 18+ is having better Rating because it does not having outliers."
   ]
  },
  {
   "cell_type": "markdown",
   "id": "64110313",
   "metadata": {},
   "source": [
    "## 7:5 Make boxplot for Ratings vs. Category\n",
    "\n",
    "### 7:5:1 Which genre has the best ratings?\n"
   ]
  },
  {
   "cell_type": "code",
   "execution_count": 69,
   "id": "6725caeb",
   "metadata": {},
   "outputs": [
    {
     "data": {
      "text/plain": [
       "Category\n",
       "ART_AND_DESIGN         4.367308\n",
       "AUTO_AND_VEHICLES      4.176471\n",
       "BEAUTY                 4.280000\n",
       "BOOKS_AND_REFERENCE    4.329927\n",
       "BUSINESS               4.092857\n",
       "COMICS                 4.150000\n",
       "COMMUNICATION          4.032298\n",
       "DATING                 3.940237\n",
       "EDUCATION              4.344444\n",
       "ENTERTAINMENT          4.117647\n",
       "EVENTS                 4.455814\n",
       "FAMILY                 4.172035\n",
       "FINANCE                4.104089\n",
       "FOOD_AND_DRINK         4.121519\n",
       "GAME                   4.165709\n",
       "HEALTH_AND_FITNESS     4.195215\n",
       "HOUSE_AND_HOME         4.130000\n",
       "LIBRARIES_AND_DEMO     4.200000\n",
       "LIFESTYLE              4.086792\n",
       "MAPS_AND_NAVIGATION    3.968889\n",
       "MEDICAL                4.185260\n",
       "NEWS_AND_MAGAZINES     4.101714\n",
       "PARENTING              4.300000\n",
       "PERSONALIZATION        4.321459\n",
       "PHOTOGRAPHY            4.028966\n",
       "PRODUCTIVITY           4.126761\n",
       "SHOPPING               4.196721\n",
       "SOCIAL                 4.224088\n",
       "SPORTS                 4.201010\n",
       "TOOLS                  3.974312\n",
       "TRAVEL_AND_LOCAL       4.027206\n",
       "VIDEO_PLAYERS          3.920408\n",
       "WEATHER                4.229412\n",
       "Name: Rating, dtype: float64"
      ]
     },
     "execution_count": 69,
     "metadata": {},
     "output_type": "execute_result"
    }
   ],
   "source": [
    "storedata.groupby(['Category'])['Rating'].mean()"
   ]
  },
  {
   "cell_type": "code",
   "execution_count": 70,
   "id": "69782281",
   "metadata": {},
   "outputs": [
    {
     "name": "stderr",
     "output_type": "stream",
     "text": [
      "C:\\Users\\hp\\anaconda3\\lib\\site-packages\\seaborn\\_decorators.py:36: FutureWarning: Pass the following variables as keyword args: x, y. From version 0.12, the only valid positional argument will be `data`, and passing other arguments without an explicit keyword will result in an error or misinterpretation.\n",
      "  warnings.warn(\n"
     ]
    },
    {
     "data": {
      "text/plain": [
       "Text(0.5, 1.0, 'Category vs Rating')"
      ]
     },
     "execution_count": 70,
     "metadata": {},
     "output_type": "execute_result"
    },
    {
     "data": {
      "image/png": "[encoded data removed]",
      "text/plain": [
       "<Figure size 1080x648 with 1 Axes>"
      ]
     },
     "metadata": {
      "needs_background": "light"
     },
     "output_type": "display_data"
    }
   ],
   "source": [
    "plt.figure(figsize=(15,9))\n",
    "sns.boxplot(storedata['Rating'], storedata['Category'])\n",
    "plt.xlabel('Rating')\n",
    "plt.ylabel('Category')\n",
    "plt.title('Category vs Rating',loc='center', fontsize=30, color='green')"
   ]
  },
  {
   "cell_type": "markdown",
   "id": "78c25cbd",
   "metadata": {},
   "source": [
    "### Here by seeing boxplot I can say that Event is having best Rating because there is no outliers"
   ]
  },
  {
   "cell_type": "markdown",
   "id": "54ff5f82",
   "metadata": {},
   "source": [
    "## 8 Data preprocessing\n",
    "\n",
    "For the steps below, create a copy of the dataframe to make all the edits. Name it inp1.\n",
    "\n",
    "### 8:1 Reviews and Install have some values that are still relatively very high.\n",
    "\n",
    "Before building a linear regression model, you need to reduce the skew.\n",
    "\n",
    "Apply log transformation (np.log1p) to Reviews and Installs."
   ]
  },
  {
   "cell_type": "code",
   "execution_count": 71,
   "id": "10d62ff5",
   "metadata": {},
   "outputs": [],
   "source": [
    "inp1= storedata.copy()"
   ]
  },
  {
   "cell_type": "code",
   "execution_count": 72,
   "id": "74e7b134",
   "metadata": {},
   "outputs": [
    {
     "data": {
      "text/plain": [
       "(6506, 13)"
      ]
     },
     "execution_count": 72,
     "metadata": {},
     "output_type": "execute_result"
    }
   ],
   "source": [
    "inp1.shape"
   ]
  },
  {
   "cell_type": "code",
   "execution_count": 73,
   "id": "92dbb431",
   "metadata": {},
   "outputs": [
    {
     "data": {
      "text/plain": [
       "7897.5"
      ]
     },
     "execution_count": 73,
     "metadata": {},
     "output_type": "execute_result"
    }
   ],
   "source": [
    "q1,q3=np.percentile(inp1.Reviews,[25,75])\n",
    "iqr= q3-q1\n",
    "iqr"
   ]
  },
  {
   "cell_type": "code",
   "execution_count": 74,
   "id": "93ed5dad",
   "metadata": {
    "scrolled": false
   },
   "outputs": [
    {
     "data": {
      "text/plain": [
       "957"
      ]
     },
     "execution_count": 74,
     "metadata": {},
     "output_type": "execute_result"
    }
   ],
   "source": [
    "outliers1= inp1[(inp1.Reviews>q3+1.5*iqr) | (inp1.Reviews<q1-1.5*iqr)]\n",
    "len(outliers1)"
   ]
  },
  {
   "cell_type": "code",
   "execution_count": 75,
   "id": "3c18beb6",
   "metadata": {},
   "outputs": [
    {
     "data": {
      "text/plain": [
       "{'whiskers': [<matplotlib.lines.Line2D at 0x2d9023a7490>,\n",
       "  <matplotlib.lines.Line2D at 0x2d9023a77f0>],\n",
       " 'caps': [<matplotlib.lines.Line2D at 0x2d9023a7b50>,\n",
       "  <matplotlib.lines.Line2D at 0x2d9023a7eb0>],\n",
       " 'boxes': [<matplotlib.lines.Line2D at 0x2d9023a7130>],\n",
       " 'medians': [<matplotlib.lines.Line2D at 0x2d9023b3250>],\n",
       " 'fliers': [<matplotlib.lines.Line2D at 0x2d9023b35b0>],\n",
       " 'means': []}"
      ]
     },
     "execution_count": 75,
     "metadata": {},
     "output_type": "execute_result"
    },
    {
     "data": {
      "image/png": "[encoded data removed]",
      "text/plain": [
       "<Figure size 432x288 with 1 Axes>"
      ]
     },
     "metadata": {
      "needs_background": "light"
     },
     "output_type": "display_data"
    }
   ],
   "source": [
    "plt.boxplot(outliers1['Reviews'])"
   ]
  },
  {
   "cell_type": "code",
   "execution_count": 76,
   "id": "d933c0b7",
   "metadata": {},
   "outputs": [],
   "source": [
    "outliers = outliers1.index"
   ]
  },
  {
   "cell_type": "code",
   "execution_count": 77,
   "id": "20b177c3",
   "metadata": {},
   "outputs": [
    {
     "data": {
      "text/html": [
       "<div>\n",
       "<style scoped>\n",
       "    .dataframe tbody tr th:only-of-type {\n",
       "        vertical-align: middle;\n",
       "    }\n",
       "\n",
       "    .dataframe tbody tr th {\n",
       "        vertical-align: top;\n",
       "    }\n",
       "\n",
       "    .dataframe thead th {\n",
       "        text-align: right;\n",
       "    }\n",
       "</style>\n",
       "<table border=\"1\" class=\"dataframe\">\n",
       "  <thead>\n",
       "    <tr style=\"text-align: right;\">\n",
       "      <th></th>\n",
       "      <th>App</th>\n",
       "      <th>Category</th>\n",
       "      <th>Rating</th>\n",
       "      <th>Reviews</th>\n",
       "      <th>Size</th>\n",
       "      <th>Installs</th>\n",
       "      <th>Type</th>\n",
       "      <th>Price</th>\n",
       "      <th>Content Rating</th>\n",
       "      <th>Genres</th>\n",
       "      <th>Last Updated</th>\n",
       "      <th>Current Ver</th>\n",
       "      <th>Android Ver</th>\n",
       "    </tr>\n",
       "  </thead>\n",
       "  <tbody>\n",
       "    <tr>\n",
       "      <th>0</th>\n",
       "      <td>Photo Editor &amp; Candy Camera &amp; Grid &amp; ScrapBook</td>\n",
       "      <td>ART_AND_DESIGN</td>\n",
       "      <td>4.1</td>\n",
       "      <td>159</td>\n",
       "      <td>19000.0</td>\n",
       "      <td>10000</td>\n",
       "      <td>Free</td>\n",
       "      <td>0.0</td>\n",
       "      <td>Everyone</td>\n",
       "      <td>Art &amp; Design</td>\n",
       "      <td>January 7, 2018</td>\n",
       "      <td>1.0.0</td>\n",
       "      <td>4.0.3 and up</td>\n",
       "    </tr>\n",
       "    <tr>\n",
       "      <th>1</th>\n",
       "      <td>Coloring book moana</td>\n",
       "      <td>ART_AND_DESIGN</td>\n",
       "      <td>3.9</td>\n",
       "      <td>967</td>\n",
       "      <td>14000.0</td>\n",
       "      <td>500000</td>\n",
       "      <td>Free</td>\n",
       "      <td>0.0</td>\n",
       "      <td>Everyone</td>\n",
       "      <td>Art &amp; Design;Pretend Play</td>\n",
       "      <td>January 15, 2018</td>\n",
       "      <td>2.0.0</td>\n",
       "      <td>4.0.3 and up</td>\n",
       "    </tr>\n",
       "    <tr>\n",
       "      <th>4</th>\n",
       "      <td>Pixel Draw - Number Art Coloring Book</td>\n",
       "      <td>ART_AND_DESIGN</td>\n",
       "      <td>4.3</td>\n",
       "      <td>967</td>\n",
       "      <td>2800.0</td>\n",
       "      <td>100000</td>\n",
       "      <td>Free</td>\n",
       "      <td>0.0</td>\n",
       "      <td>Everyone</td>\n",
       "      <td>Art &amp; Design;Creativity</td>\n",
       "      <td>June 20, 2018</td>\n",
       "      <td>1.1</td>\n",
       "      <td>4.4 and up</td>\n",
       "    </tr>\n",
       "    <tr>\n",
       "      <th>5</th>\n",
       "      <td>Paper flowers instructions</td>\n",
       "      <td>ART_AND_DESIGN</td>\n",
       "      <td>4.4</td>\n",
       "      <td>167</td>\n",
       "      <td>5600.0</td>\n",
       "      <td>50000</td>\n",
       "      <td>Free</td>\n",
       "      <td>0.0</td>\n",
       "      <td>Everyone</td>\n",
       "      <td>Art &amp; Design</td>\n",
       "      <td>March 26, 2017</td>\n",
       "      <td>1.0</td>\n",
       "      <td>2.3 and up</td>\n",
       "    </tr>\n",
       "    <tr>\n",
       "      <th>6</th>\n",
       "      <td>Smoke Effect Photo Maker - Smoke Editor</td>\n",
       "      <td>ART_AND_DESIGN</td>\n",
       "      <td>3.8</td>\n",
       "      <td>178</td>\n",
       "      <td>19000.0</td>\n",
       "      <td>50000</td>\n",
       "      <td>Free</td>\n",
       "      <td>0.0</td>\n",
       "      <td>Everyone</td>\n",
       "      <td>Art &amp; Design</td>\n",
       "      <td>April 26, 2018</td>\n",
       "      <td>1.1</td>\n",
       "      <td>4.0.3 and up</td>\n",
       "    </tr>\n",
       "  </tbody>\n",
       "</table>\n",
       "</div>"
      ],
      "text/plain": [
       "                                              App        Category  Rating  \\\n",
       "0  Photo Editor & Candy Camera & Grid & ScrapBook  ART_AND_DESIGN     4.1   \n",
       "1                             Coloring book moana  ART_AND_DESIGN     3.9   \n",
       "4           Pixel Draw - Number Art Coloring Book  ART_AND_DESIGN     4.3   \n",
       "5                      Paper flowers instructions  ART_AND_DESIGN     4.4   \n",
       "6         Smoke Effect Photo Maker - Smoke Editor  ART_AND_DESIGN     3.8   \n",
       "\n",
       "   Reviews     Size  Installs  Type  Price Content Rating  \\\n",
       "0      159  19000.0     10000  Free    0.0       Everyone   \n",
       "1      967  14000.0    500000  Free    0.0       Everyone   \n",
       "4      967   2800.0    100000  Free    0.0       Everyone   \n",
       "5      167   5600.0     50000  Free    0.0       Everyone   \n",
       "6      178  19000.0     50000  Free    0.0       Everyone   \n",
       "\n",
       "                      Genres      Last Updated Current Ver   Android Ver  \n",
       "0               Art & Design   January 7, 2018       1.0.0  4.0.3 and up  \n",
       "1  Art & Design;Pretend Play  January 15, 2018       2.0.0  4.0.3 and up  \n",
       "4    Art & Design;Creativity     June 20, 2018         1.1    4.4 and up  \n",
       "5               Art & Design    March 26, 2017         1.0    2.3 and up  \n",
       "6               Art & Design    April 26, 2018         1.1  4.0.3 and up  "
      ]
     },
     "execution_count": 77,
     "metadata": {},
     "output_type": "execute_result"
    }
   ],
   "source": [
    "inp1.head()"
   ]
  },
  {
   "cell_type": "code",
   "execution_count": 78,
   "id": "443ba70e",
   "metadata": {},
   "outputs": [],
   "source": [
    "inp1.drop(labels=outliers, inplace=True)"
   ]
  },
  {
   "cell_type": "code",
   "execution_count": 79,
   "id": "6b086a81",
   "metadata": {},
   "outputs": [
    {
     "data": {
      "text/plain": [
       "{'whiskers': [<matplotlib.lines.Line2D at 0x2d90240b2e0>,\n",
       "  <matplotlib.lines.Line2D at 0x2d90240b640>],\n",
       " 'caps': [<matplotlib.lines.Line2D at 0x2d90240b9a0>,\n",
       "  <matplotlib.lines.Line2D at 0x2d90240bd00>],\n",
       " 'boxes': [<matplotlib.lines.Line2D at 0x2d9023fdf40>],\n",
       " 'medians': [<matplotlib.lines.Line2D at 0x2d9024170a0>],\n",
       " 'fliers': [<matplotlib.lines.Line2D at 0x2d902417430>],\n",
       " 'means': []}"
      ]
     },
     "execution_count": 79,
     "metadata": {},
     "output_type": "execute_result"
    },
    {
     "data": {
      "image/png": "[encoded data removed]",
      "text/plain": [
       "<Figure size 1440x648 with 1 Axes>"
      ]
     },
     "metadata": {
      "needs_background": "light"
     },
     "output_type": "display_data"
    }
   ],
   "source": [
    "plt.figure(figsize=(20,9))\n",
    "plt.boxplot(inp1['Reviews'])"
   ]
  },
  {
   "cell_type": "code",
   "execution_count": 80,
   "id": "5bcf33f7",
   "metadata": {},
   "outputs": [
    {
     "data": {
      "text/plain": [
       "2        81\n",
       "3        78\n",
       "5        74\n",
       "4        73\n",
       "1        67\n",
       "         ..\n",
       "14283     1\n",
       "1228      1\n",
       "7379      1\n",
       "6079      1\n",
       "12304     1\n",
       "Name: Reviews, Length: 2559, dtype: int64"
      ]
     },
     "execution_count": 80,
     "metadata": {},
     "output_type": "execute_result"
    }
   ],
   "source": [
    "inp1.Reviews.value_counts()"
   ]
  },
  {
   "cell_type": "code",
   "execution_count": 81,
   "id": "8daf4f42",
   "metadata": {},
   "outputs": [
    {
     "name": "stderr",
     "output_type": "stream",
     "text": [
      "C:\\Users\\hp\\anaconda3\\lib\\site-packages\\seaborn\\distributions.py:2557: FutureWarning: `distplot` is a deprecated function and will be removed in a future version. Please adapt your code to use either `displot` (a figure-level function with similar flexibility) or `histplot` (an axes-level function for histograms).\n",
      "  warnings.warn(msg, FutureWarning)\n"
     ]
    },
    {
     "data": {
      "text/plain": [
       "<AxesSubplot:xlabel='Reviews', ylabel='Density'>"
      ]
     },
     "execution_count": 81,
     "metadata": {},
     "output_type": "execute_result"
    },
    {
     "data": {
      "image/png": "[encoded data removed]",
      "text/plain": [
       "<Figure size 1080x360 with 1 Axes>"
      ]
     },
     "metadata": {
      "needs_background": "light"
     },
     "output_type": "display_data"
    }
   ],
   "source": [
    "plt.figure(figsize=(15,5))\n",
    "sns.distplot(inp1.Reviews, hist=True, hist_kws=dict(ec='k')) # skewed dataset"
   ]
  },
  {
   "cell_type": "code",
   "execution_count": 82,
   "id": "9c489af3",
   "metadata": {},
   "outputs": [
    {
     "data": {
      "text/plain": [
       "count     5549.000000\n",
       "mean      2588.472878\n",
       "std       4399.753156\n",
       "min          1.000000\n",
       "25%         42.000000\n",
       "50%        360.000000\n",
       "75%       2943.000000\n",
       "max      19784.000000\n",
       "Name: Reviews, dtype: float64"
      ]
     },
     "execution_count": 82,
     "metadata": {},
     "output_type": "execute_result"
    }
   ],
   "source": [
    "inp1.Reviews.describe()\n",
    "#'''Here we can see that data is not normally distributed because we can see that there is a huge difference in \n",
    "#mean and std similarlly there is relatively very heigh difference in min and max '''"
   ]
  },
  {
   "cell_type": "code",
   "execution_count": 83,
   "id": "dbbdbdfa",
   "metadata": {},
   "outputs": [],
   "source": [
    "inp1.Reviews= inp1.Reviews.apply(np.log1p)\n",
    "# Applying log function to normalize the data."
   ]
  },
  {
   "cell_type": "code",
   "execution_count": 84,
   "id": "c780de10",
   "metadata": {},
   "outputs": [
    {
     "data": {
      "text/plain": [
       "count    5549.000000\n",
       "mean        5.804859\n",
       "std         2.506471\n",
       "min         0.693147\n",
       "25%         3.761200\n",
       "50%         5.888878\n",
       "75%         7.987524\n",
       "max         9.892679\n",
       "Name: Reviews, dtype: float64"
      ]
     },
     "execution_count": 84,
     "metadata": {},
     "output_type": "execute_result"
    }
   ],
   "source": [
    "inp1.Reviews.describe()"
   ]
  },
  {
   "cell_type": "code",
   "execution_count": 85,
   "id": "69008986",
   "metadata": {},
   "outputs": [
    {
     "name": "stderr",
     "output_type": "stream",
     "text": [
      "C:\\Users\\hp\\anaconda3\\lib\\site-packages\\seaborn\\distributions.py:2557: FutureWarning: `distplot` is a deprecated function and will be removed in a future version. Please adapt your code to use either `displot` (a figure-level function with similar flexibility) or `histplot` (an axes-level function for histograms).\n",
      "  warnings.warn(msg, FutureWarning)\n"
     ]
    },
    {
     "data": {
      "text/plain": [
       "<AxesSubplot:xlabel='Reviews', ylabel='Density'>"
      ]
     },
     "execution_count": 85,
     "metadata": {},
     "output_type": "execute_result"
    },
    {
     "data": {
      "image/png": "[encoded data removed]",
      "text/plain": [
       "<Figure size 1080x648 with 1 Axes>"
      ]
     },
     "metadata": {
      "needs_background": "light"
     },
     "output_type": "display_data"
    }
   ],
   "source": [
    "plt.figure(figsize=(15,9))\n",
    "sns.distplot(inp1['Reviews'],hist=True, hist_kws=dict(ec='k'))"
   ]
  },
  {
   "cell_type": "code",
   "execution_count": 86,
   "id": "4a436f16",
   "metadata": {},
   "outputs": [
    {
     "data": {
      "text/plain": [
       "count       5549.000000\n",
       "mean      196154.768427\n",
       "std       334101.009166\n",
       "min            5.000000\n",
       "25%         5000.000000\n",
       "50%        10000.000000\n",
       "75%       100000.000000\n",
       "max      1000000.000000\n",
       "Name: Installs, dtype: float64"
      ]
     },
     "execution_count": 86,
     "metadata": {},
     "output_type": "execute_result"
    }
   ],
   "source": [
    "inp1.Installs.describe()"
   ]
  },
  {
   "cell_type": "markdown",
   "id": "661a587c",
   "metadata": {},
   "source": [
    "### '''For Installs also we can see that data is not normally distributed because we can see that there is a huge difference in mean and std similarlly there is relatively very heigh difference in min and max '''"
   ]
  },
  {
   "cell_type": "code",
   "execution_count": 87,
   "id": "3fecd1ad",
   "metadata": {},
   "outputs": [
    {
     "name": "stderr",
     "output_type": "stream",
     "text": [
      "C:\\Users\\hp\\anaconda3\\lib\\site-packages\\seaborn\\distributions.py:2557: FutureWarning: `distplot` is a deprecated function and will be removed in a future version. Please adapt your code to use either `displot` (a figure-level function with similar flexibility) or `histplot` (an axes-level function for histograms).\n",
      "  warnings.warn(msg, FutureWarning)\n"
     ]
    },
    {
     "data": {
      "text/plain": [
       "<AxesSubplot:xlabel='Installs'>"
      ]
     },
     "execution_count": 87,
     "metadata": {},
     "output_type": "execute_result"
    },
    {
     "data": {
      "image/png": "[encoded data removed]",
      "text/plain": [
       "<Figure size 1080x648 with 1 Axes>"
      ]
     },
     "metadata": {
      "needs_background": "light"
     },
     "output_type": "display_data"
    }
   ],
   "source": [
    "plt.figure(figsize=(15,9))\n",
    "sns.distplot(inp1.Installs, hist=True, kde=False)"
   ]
  },
  {
   "cell_type": "code",
   "execution_count": 88,
   "id": "e878d645",
   "metadata": {},
   "outputs": [],
   "source": [
    "inp1.Installs= inp1.Installs.apply(np.log1p)\n",
    "# Applying log function to normalize the data."
   ]
  },
  {
   "cell_type": "code",
   "execution_count": 89,
   "id": "7bd3e8cd",
   "metadata": {},
   "outputs": [
    {
     "data": {
      "text/plain": [
       "count    5549.000000\n",
       "mean        9.874105\n",
       "std         2.824880\n",
       "min         1.791759\n",
       "25%         8.517393\n",
       "50%         9.210440\n",
       "75%        11.512935\n",
       "max        13.815512\n",
       "Name: Installs, dtype: float64"
      ]
     },
     "execution_count": 89,
     "metadata": {},
     "output_type": "execute_result"
    }
   ],
   "source": [
    "inp1.Installs.describe()"
   ]
  },
  {
   "cell_type": "code",
   "execution_count": 90,
   "id": "21e0cdbf",
   "metadata": {},
   "outputs": [
    {
     "data": {
      "text/plain": [
       "<AxesSubplot:xlabel='Installs'>"
      ]
     },
     "execution_count": 90,
     "metadata": {},
     "output_type": "execute_result"
    },
    {
     "data": {
      "image/png": "[encoded data removed]",
      "text/plain": [
       "<Figure size 1080x648 with 1 Axes>"
      ]
     },
     "metadata": {
      "needs_background": "light"
     },
     "output_type": "display_data"
    }
   ],
   "source": [
    "plt.figure(figsize=(15,9))\n",
    "sns.distplot(inp1.Installs,hist=True,kde=False, bins=10)"
   ]
  },
  {
   "cell_type": "markdown",
   "id": "6c1c7c52",
   "metadata": {},
   "source": [
    "## 8:2 Drop columns App, Last Updated, Current Ver, and Android Ver. These variables are not useful for our task."
   ]
  },
  {
   "cell_type": "code",
   "execution_count": 91,
   "id": "b6aeeea2",
   "metadata": {},
   "outputs": [
    {
     "data": {
      "text/plain": [
       "Index(['App', 'Category', 'Rating', 'Reviews', 'Size', 'Installs', 'Type',\n",
       "       'Price', 'Content Rating', 'Genres', 'Last Updated', 'Current Ver',\n",
       "       'Android Ver'],\n",
       "      dtype='object')"
      ]
     },
     "execution_count": 91,
     "metadata": {},
     "output_type": "execute_result"
    }
   ],
   "source": [
    "inp1.columns"
   ]
  },
  {
   "cell_type": "code",
   "execution_count": 92,
   "id": "dd41fae5",
   "metadata": {},
   "outputs": [
    {
     "data": {
      "text/plain": [
       "(5549, 13)"
      ]
     },
     "execution_count": 92,
     "metadata": {},
     "output_type": "execute_result"
    }
   ],
   "source": [
    "inp1.shape"
   ]
  },
  {
   "cell_type": "code",
   "execution_count": 93,
   "id": "8d7b4ef1",
   "metadata": {},
   "outputs": [],
   "source": [
    "#Dropped App, Last Updated, Current Ver, and Android Ver.\n",
    "inp1.drop(['App', 'Last Updated','Current Ver','Android Ver'],axis= 1, inplace=True)"
   ]
  },
  {
   "cell_type": "code",
   "execution_count": 94,
   "id": "d8dc3a61",
   "metadata": {},
   "outputs": [
    {
     "data": {
      "text/plain": [
       "Index(['Category', 'Rating', 'Reviews', 'Size', 'Installs', 'Type', 'Price',\n",
       "       'Content Rating', 'Genres'],\n",
       "      dtype='object')"
      ]
     },
     "execution_count": 94,
     "metadata": {},
     "output_type": "execute_result"
    }
   ],
   "source": [
    "inp1.columns #checking updated columns"
   ]
  },
  {
   "cell_type": "markdown",
   "id": "a94adb34",
   "metadata": {},
   "source": [
    "## 8:3 Get dummy columns for Category, Genres, and Content Rating.\n",
    "\n",
    "This needs to be done as the models do not understand categorical data, and all data should be numeric.\n",
    "\n",
    "Dummy encoding is one way to convert character fields to numeric. Name of dataframe should be inp2.\n"
   ]
  },
  {
   "cell_type": "code",
   "execution_count": 95,
   "id": "36554942",
   "metadata": {},
   "outputs": [
    {
     "data": {
      "text/plain": [
       "dtype('float64')"
      ]
     },
     "execution_count": 95,
     "metadata": {},
     "output_type": "execute_result"
    }
   ],
   "source": [
    "inp1['Reviews'].dtype"
   ]
  },
  {
   "cell_type": "code",
   "execution_count": 96,
   "id": "e23e720d",
   "metadata": {},
   "outputs": [
    {
     "name": "stdout",
     "output_type": "stream",
     "text": [
      "<class 'pandas.core.frame.DataFrame'>\n",
      "Int64Index: 5549 entries, 0 to 10839\n",
      "Data columns (total 9 columns):\n",
      " #   Column          Non-Null Count  Dtype  \n",
      "---  ------          --------------  -----  \n",
      " 0   Category        5549 non-null   object \n",
      " 1   Rating          5549 non-null   float64\n",
      " 2   Reviews         5549 non-null   float64\n",
      " 3   Size            5549 non-null   float64\n",
      " 4   Installs        5549 non-null   float64\n",
      " 5   Type            5549 non-null   object \n",
      " 6   Price           5549 non-null   float64\n",
      " 7   Content Rating  5549 non-null   object \n",
      " 8   Genres          5549 non-null   object \n",
      "dtypes: float64(5), object(4)\n",
      "memory usage: 433.5+ KB\n"
     ]
    }
   ],
   "source": [
    "inp1.info()"
   ]
  },
  {
   "cell_type": "code",
   "execution_count": 97,
   "id": "0c84b52c",
   "metadata": {},
   "outputs": [
    {
     "data": {
      "text/plain": [
       "0        5.075174\n",
       "1        6.875232\n",
       "4        6.875232\n",
       "5        5.123964\n",
       "6        5.187386\n",
       "           ...   \n",
       "10833    3.806662\n",
       "10834    2.079442\n",
       "10836    3.663562\n",
       "10837    1.609438\n",
       "10839    4.744932\n",
       "Name: Reviews, Length: 5549, dtype: float64"
      ]
     },
     "execution_count": 97,
     "metadata": {},
     "output_type": "execute_result"
    }
   ],
   "source": [
    "inp1['Reviews']"
   ]
  },
  {
   "cell_type": "code",
   "execution_count": 98,
   "id": "f2cc9489",
   "metadata": {},
   "outputs": [
    {
     "data": {
      "text/html": [
       "<div>\n",
       "<style scoped>\n",
       "    .dataframe tbody tr th:only-of-type {\n",
       "        vertical-align: middle;\n",
       "    }\n",
       "\n",
       "    .dataframe tbody tr th {\n",
       "        vertical-align: top;\n",
       "    }\n",
       "\n",
       "    .dataframe thead th {\n",
       "        text-align: right;\n",
       "    }\n",
       "</style>\n",
       "<table border=\"1\" class=\"dataframe\">\n",
       "  <thead>\n",
       "    <tr style=\"text-align: right;\">\n",
       "      <th></th>\n",
       "      <th>Rating</th>\n",
       "      <th>Reviews</th>\n",
       "      <th>Size</th>\n",
       "      <th>Installs</th>\n",
       "      <th>Type</th>\n",
       "      <th>Price</th>\n",
       "      <th>Category_AUTO_AND_VEHICLES</th>\n",
       "      <th>Category_BEAUTY</th>\n",
       "      <th>Category_BOOKS_AND_REFERENCE</th>\n",
       "      <th>Category_BUSINESS</th>\n",
       "      <th>...</th>\n",
       "      <th>Genres_Travel &amp; Local;Action &amp; Adventure</th>\n",
       "      <th>Genres_Trivia</th>\n",
       "      <th>Genres_Video Players &amp; Editors</th>\n",
       "      <th>Genres_Weather</th>\n",
       "      <th>Genres_Word</th>\n",
       "      <th>Content Rating_Everyone</th>\n",
       "      <th>Content Rating_Everyone 10+</th>\n",
       "      <th>Content Rating_Mature 17+</th>\n",
       "      <th>Content Rating_Teen</th>\n",
       "      <th>Content Rating_Unrated</th>\n",
       "    </tr>\n",
       "  </thead>\n",
       "  <tbody>\n",
       "    <tr>\n",
       "      <th>0</th>\n",
       "      <td>4.1</td>\n",
       "      <td>5.075174</td>\n",
       "      <td>19000.0</td>\n",
       "      <td>9.210440</td>\n",
       "      <td>Free</td>\n",
       "      <td>0.0</td>\n",
       "      <td>0</td>\n",
       "      <td>0</td>\n",
       "      <td>0</td>\n",
       "      <td>0</td>\n",
       "      <td>...</td>\n",
       "      <td>0</td>\n",
       "      <td>0</td>\n",
       "      <td>0</td>\n",
       "      <td>0</td>\n",
       "      <td>0</td>\n",
       "      <td>1</td>\n",
       "      <td>0</td>\n",
       "      <td>0</td>\n",
       "      <td>0</td>\n",
       "      <td>0</td>\n",
       "    </tr>\n",
       "    <tr>\n",
       "      <th>1</th>\n",
       "      <td>3.9</td>\n",
       "      <td>6.875232</td>\n",
       "      <td>14000.0</td>\n",
       "      <td>13.122365</td>\n",
       "      <td>Free</td>\n",
       "      <td>0.0</td>\n",
       "      <td>0</td>\n",
       "      <td>0</td>\n",
       "      <td>0</td>\n",
       "      <td>0</td>\n",
       "      <td>...</td>\n",
       "      <td>0</td>\n",
       "      <td>0</td>\n",
       "      <td>0</td>\n",
       "      <td>0</td>\n",
       "      <td>0</td>\n",
       "      <td>1</td>\n",
       "      <td>0</td>\n",
       "      <td>0</td>\n",
       "      <td>0</td>\n",
       "      <td>0</td>\n",
       "    </tr>\n",
       "    <tr>\n",
       "      <th>4</th>\n",
       "      <td>4.3</td>\n",
       "      <td>6.875232</td>\n",
       "      <td>2800.0</td>\n",
       "      <td>11.512935</td>\n",
       "      <td>Free</td>\n",
       "      <td>0.0</td>\n",
       "      <td>0</td>\n",
       "      <td>0</td>\n",
       "      <td>0</td>\n",
       "      <td>0</td>\n",
       "      <td>...</td>\n",
       "      <td>0</td>\n",
       "      <td>0</td>\n",
       "      <td>0</td>\n",
       "      <td>0</td>\n",
       "      <td>0</td>\n",
       "      <td>1</td>\n",
       "      <td>0</td>\n",
       "      <td>0</td>\n",
       "      <td>0</td>\n",
       "      <td>0</td>\n",
       "    </tr>\n",
       "    <tr>\n",
       "      <th>5</th>\n",
       "      <td>4.4</td>\n",
       "      <td>5.123964</td>\n",
       "      <td>5600.0</td>\n",
       "      <td>10.819798</td>\n",
       "      <td>Free</td>\n",
       "      <td>0.0</td>\n",
       "      <td>0</td>\n",
       "      <td>0</td>\n",
       "      <td>0</td>\n",
       "      <td>0</td>\n",
       "      <td>...</td>\n",
       "      <td>0</td>\n",
       "      <td>0</td>\n",
       "      <td>0</td>\n",
       "      <td>0</td>\n",
       "      <td>0</td>\n",
       "      <td>1</td>\n",
       "      <td>0</td>\n",
       "      <td>0</td>\n",
       "      <td>0</td>\n",
       "      <td>0</td>\n",
       "    </tr>\n",
       "    <tr>\n",
       "      <th>6</th>\n",
       "      <td>3.8</td>\n",
       "      <td>5.187386</td>\n",
       "      <td>19000.0</td>\n",
       "      <td>10.819798</td>\n",
       "      <td>Free</td>\n",
       "      <td>0.0</td>\n",
       "      <td>0</td>\n",
       "      <td>0</td>\n",
       "      <td>0</td>\n",
       "      <td>0</td>\n",
       "      <td>...</td>\n",
       "      <td>0</td>\n",
       "      <td>0</td>\n",
       "      <td>0</td>\n",
       "      <td>0</td>\n",
       "      <td>0</td>\n",
       "      <td>1</td>\n",
       "      <td>0</td>\n",
       "      <td>0</td>\n",
       "      <td>0</td>\n",
       "      <td>0</td>\n",
       "    </tr>\n",
       "  </tbody>\n",
       "</table>\n",
       "<p>5 rows × 143 columns</p>\n",
       "</div>"
      ],
      "text/plain": [
       "   Rating   Reviews     Size   Installs  Type  Price  \\\n",
       "0     4.1  5.075174  19000.0   9.210440  Free    0.0   \n",
       "1     3.9  6.875232  14000.0  13.122365  Free    0.0   \n",
       "4     4.3  6.875232   2800.0  11.512935  Free    0.0   \n",
       "5     4.4  5.123964   5600.0  10.819798  Free    0.0   \n",
       "6     3.8  5.187386  19000.0  10.819798  Free    0.0   \n",
       "\n",
       "   Category_AUTO_AND_VEHICLES  Category_BEAUTY  Category_BOOKS_AND_REFERENCE  \\\n",
       "0                           0                0                             0   \n",
       "1                           0                0                             0   \n",
       "4                           0                0                             0   \n",
       "5                           0                0                             0   \n",
       "6                           0                0                             0   \n",
       "\n",
       "   Category_BUSINESS  ...  Genres_Travel & Local;Action & Adventure  \\\n",
       "0                  0  ...                                         0   \n",
       "1                  0  ...                                         0   \n",
       "4                  0  ...                                         0   \n",
       "5                  0  ...                                         0   \n",
       "6                  0  ...                                         0   \n",
       "\n",
       "   Genres_Trivia  Genres_Video Players & Editors  Genres_Weather  Genres_Word  \\\n",
       "0              0                               0               0            0   \n",
       "1              0                               0               0            0   \n",
       "4              0                               0               0            0   \n",
       "5              0                               0               0            0   \n",
       "6              0                               0               0            0   \n",
       "\n",
       "   Content Rating_Everyone  Content Rating_Everyone 10+  \\\n",
       "0                        1                            0   \n",
       "1                        1                            0   \n",
       "4                        1                            0   \n",
       "5                        1                            0   \n",
       "6                        1                            0   \n",
       "\n",
       "   Content Rating_Mature 17+  Content Rating_Teen  Content Rating_Unrated  \n",
       "0                          0                    0                       0  \n",
       "1                          0                    0                       0  \n",
       "4                          0                    0                       0  \n",
       "5                          0                    0                       0  \n",
       "6                          0                    0                       0  \n",
       "\n",
       "[5 rows x 143 columns]"
      ]
     },
     "execution_count": 98,
     "metadata": {},
     "output_type": "execute_result"
    }
   ],
   "source": [
    "#Creating dummy column for Category, Genres, and Content Rating, which shows numaric binary values.\n",
    "inp2 = pd.get_dummies(inp1,columns=['Category','Genres','Content Rating'],drop_first=True)\n",
    "inp2.head()"
   ]
  },
  {
   "cell_type": "code",
   "execution_count": 99,
   "id": "0b4600ba",
   "metadata": {},
   "outputs": [
    {
     "name": "stdout",
     "output_type": "stream",
     "text": [
      "<class 'pandas.core.frame.DataFrame'>\n",
      "Int64Index: 5549 entries, 0 to 10839\n",
      "Columns: 143 entries, Rating to Content Rating_Unrated\n",
      "dtypes: float64(5), object(1), uint8(137)\n",
      "memory usage: 1.0+ MB\n"
     ]
    }
   ],
   "source": [
    "inp2.info()"
   ]
  },
  {
   "cell_type": "markdown",
   "id": "dae7cfb3",
   "metadata": {},
   "source": [
    "## 9: Train test split  and apply 70-30 split. Name the new dataframes df_train and df_test."
   ]
  },
  {
   "cell_type": "code",
   "execution_count": 100,
   "id": "b62efdc6",
   "metadata": {},
   "outputs": [],
   "source": [
    "from sklearn.model_selection import train_test_split"
   ]
  },
  {
   "cell_type": "code",
   "execution_count": 101,
   "id": "816db34f",
   "metadata": {},
   "outputs": [
    {
     "data": {
      "text/html": [
       "<div>\n",
       "<style scoped>\n",
       "    .dataframe tbody tr th:only-of-type {\n",
       "        vertical-align: middle;\n",
       "    }\n",
       "\n",
       "    .dataframe tbody tr th {\n",
       "        vertical-align: top;\n",
       "    }\n",
       "\n",
       "    .dataframe thead th {\n",
       "        text-align: right;\n",
       "    }\n",
       "</style>\n",
       "<table border=\"1\" class=\"dataframe\">\n",
       "  <thead>\n",
       "    <tr style=\"text-align: right;\">\n",
       "      <th></th>\n",
       "      <th>Rating</th>\n",
       "      <th>Reviews</th>\n",
       "      <th>Size</th>\n",
       "      <th>Installs</th>\n",
       "      <th>Type</th>\n",
       "      <th>Price</th>\n",
       "      <th>Category_AUTO_AND_VEHICLES</th>\n",
       "      <th>Category_BEAUTY</th>\n",
       "      <th>Category_BOOKS_AND_REFERENCE</th>\n",
       "      <th>Category_BUSINESS</th>\n",
       "      <th>...</th>\n",
       "      <th>Genres_Travel &amp; Local;Action &amp; Adventure</th>\n",
       "      <th>Genres_Trivia</th>\n",
       "      <th>Genres_Video Players &amp; Editors</th>\n",
       "      <th>Genres_Weather</th>\n",
       "      <th>Genres_Word</th>\n",
       "      <th>Content Rating_Everyone</th>\n",
       "      <th>Content Rating_Everyone 10+</th>\n",
       "      <th>Content Rating_Mature 17+</th>\n",
       "      <th>Content Rating_Teen</th>\n",
       "      <th>Content Rating_Unrated</th>\n",
       "    </tr>\n",
       "  </thead>\n",
       "  <tbody>\n",
       "    <tr>\n",
       "      <th>0</th>\n",
       "      <td>4.1</td>\n",
       "      <td>5.075174</td>\n",
       "      <td>19000.0</td>\n",
       "      <td>9.210440</td>\n",
       "      <td>Free</td>\n",
       "      <td>0.0</td>\n",
       "      <td>0</td>\n",
       "      <td>0</td>\n",
       "      <td>0</td>\n",
       "      <td>0</td>\n",
       "      <td>...</td>\n",
       "      <td>0</td>\n",
       "      <td>0</td>\n",
       "      <td>0</td>\n",
       "      <td>0</td>\n",
       "      <td>0</td>\n",
       "      <td>1</td>\n",
       "      <td>0</td>\n",
       "      <td>0</td>\n",
       "      <td>0</td>\n",
       "      <td>0</td>\n",
       "    </tr>\n",
       "    <tr>\n",
       "      <th>1</th>\n",
       "      <td>3.9</td>\n",
       "      <td>6.875232</td>\n",
       "      <td>14000.0</td>\n",
       "      <td>13.122365</td>\n",
       "      <td>Free</td>\n",
       "      <td>0.0</td>\n",
       "      <td>0</td>\n",
       "      <td>0</td>\n",
       "      <td>0</td>\n",
       "      <td>0</td>\n",
       "      <td>...</td>\n",
       "      <td>0</td>\n",
       "      <td>0</td>\n",
       "      <td>0</td>\n",
       "      <td>0</td>\n",
       "      <td>0</td>\n",
       "      <td>1</td>\n",
       "      <td>0</td>\n",
       "      <td>0</td>\n",
       "      <td>0</td>\n",
       "      <td>0</td>\n",
       "    </tr>\n",
       "    <tr>\n",
       "      <th>4</th>\n",
       "      <td>4.3</td>\n",
       "      <td>6.875232</td>\n",
       "      <td>2800.0</td>\n",
       "      <td>11.512935</td>\n",
       "      <td>Free</td>\n",
       "      <td>0.0</td>\n",
       "      <td>0</td>\n",
       "      <td>0</td>\n",
       "      <td>0</td>\n",
       "      <td>0</td>\n",
       "      <td>...</td>\n",
       "      <td>0</td>\n",
       "      <td>0</td>\n",
       "      <td>0</td>\n",
       "      <td>0</td>\n",
       "      <td>0</td>\n",
       "      <td>1</td>\n",
       "      <td>0</td>\n",
       "      <td>0</td>\n",
       "      <td>0</td>\n",
       "      <td>0</td>\n",
       "    </tr>\n",
       "    <tr>\n",
       "      <th>5</th>\n",
       "      <td>4.4</td>\n",
       "      <td>5.123964</td>\n",
       "      <td>5600.0</td>\n",
       "      <td>10.819798</td>\n",
       "      <td>Free</td>\n",
       "      <td>0.0</td>\n",
       "      <td>0</td>\n",
       "      <td>0</td>\n",
       "      <td>0</td>\n",
       "      <td>0</td>\n",
       "      <td>...</td>\n",
       "      <td>0</td>\n",
       "      <td>0</td>\n",
       "      <td>0</td>\n",
       "      <td>0</td>\n",
       "      <td>0</td>\n",
       "      <td>1</td>\n",
       "      <td>0</td>\n",
       "      <td>0</td>\n",
       "      <td>0</td>\n",
       "      <td>0</td>\n",
       "    </tr>\n",
       "    <tr>\n",
       "      <th>6</th>\n",
       "      <td>3.8</td>\n",
       "      <td>5.187386</td>\n",
       "      <td>19000.0</td>\n",
       "      <td>10.819798</td>\n",
       "      <td>Free</td>\n",
       "      <td>0.0</td>\n",
       "      <td>0</td>\n",
       "      <td>0</td>\n",
       "      <td>0</td>\n",
       "      <td>0</td>\n",
       "      <td>...</td>\n",
       "      <td>0</td>\n",
       "      <td>0</td>\n",
       "      <td>0</td>\n",
       "      <td>0</td>\n",
       "      <td>0</td>\n",
       "      <td>1</td>\n",
       "      <td>0</td>\n",
       "      <td>0</td>\n",
       "      <td>0</td>\n",
       "      <td>0</td>\n",
       "    </tr>\n",
       "    <tr>\n",
       "      <th>8</th>\n",
       "      <td>4.4</td>\n",
       "      <td>9.531844</td>\n",
       "      <td>33000.0</td>\n",
       "      <td>13.815512</td>\n",
       "      <td>Free</td>\n",
       "      <td>0.0</td>\n",
       "      <td>0</td>\n",
       "      <td>0</td>\n",
       "      <td>0</td>\n",
       "      <td>0</td>\n",
       "      <td>...</td>\n",
       "      <td>0</td>\n",
       "      <td>0</td>\n",
       "      <td>0</td>\n",
       "      <td>0</td>\n",
       "      <td>0</td>\n",
       "      <td>1</td>\n",
       "      <td>0</td>\n",
       "      <td>0</td>\n",
       "      <td>0</td>\n",
       "      <td>0</td>\n",
       "    </tr>\n",
       "    <tr>\n",
       "      <th>9</th>\n",
       "      <td>4.7</td>\n",
       "      <td>4.804021</td>\n",
       "      <td>3100.0</td>\n",
       "      <td>9.210440</td>\n",
       "      <td>Free</td>\n",
       "      <td>0.0</td>\n",
       "      <td>0</td>\n",
       "      <td>0</td>\n",
       "      <td>0</td>\n",
       "      <td>0</td>\n",
       "      <td>...</td>\n",
       "      <td>0</td>\n",
       "      <td>0</td>\n",
       "      <td>0</td>\n",
       "      <td>0</td>\n",
       "      <td>0</td>\n",
       "      <td>1</td>\n",
       "      <td>0</td>\n",
       "      <td>0</td>\n",
       "      <td>0</td>\n",
       "      <td>0</td>\n",
       "    </tr>\n",
       "    <tr>\n",
       "      <th>10</th>\n",
       "      <td>4.4</td>\n",
       "      <td>9.538276</td>\n",
       "      <td>28000.0</td>\n",
       "      <td>13.815512</td>\n",
       "      <td>Free</td>\n",
       "      <td>0.0</td>\n",
       "      <td>0</td>\n",
       "      <td>0</td>\n",
       "      <td>0</td>\n",
       "      <td>0</td>\n",
       "      <td>...</td>\n",
       "      <td>0</td>\n",
       "      <td>0</td>\n",
       "      <td>0</td>\n",
       "      <td>0</td>\n",
       "      <td>0</td>\n",
       "      <td>1</td>\n",
       "      <td>0</td>\n",
       "      <td>0</td>\n",
       "      <td>0</td>\n",
       "      <td>0</td>\n",
       "    </tr>\n",
       "    <tr>\n",
       "      <th>11</th>\n",
       "      <td>4.4</td>\n",
       "      <td>9.081256</td>\n",
       "      <td>12000.0</td>\n",
       "      <td>13.815512</td>\n",
       "      <td>Free</td>\n",
       "      <td>0.0</td>\n",
       "      <td>0</td>\n",
       "      <td>0</td>\n",
       "      <td>0</td>\n",
       "      <td>0</td>\n",
       "      <td>...</td>\n",
       "      <td>0</td>\n",
       "      <td>0</td>\n",
       "      <td>0</td>\n",
       "      <td>0</td>\n",
       "      <td>0</td>\n",
       "      <td>1</td>\n",
       "      <td>0</td>\n",
       "      <td>0</td>\n",
       "      <td>0</td>\n",
       "      <td>0</td>\n",
       "    </tr>\n",
       "    <tr>\n",
       "      <th>13</th>\n",
       "      <td>4.6</td>\n",
       "      <td>8.372630</td>\n",
       "      <td>21000.0</td>\n",
       "      <td>11.512935</td>\n",
       "      <td>Free</td>\n",
       "      <td>0.0</td>\n",
       "      <td>0</td>\n",
       "      <td>0</td>\n",
       "      <td>0</td>\n",
       "      <td>0</td>\n",
       "      <td>...</td>\n",
       "      <td>0</td>\n",
       "      <td>0</td>\n",
       "      <td>0</td>\n",
       "      <td>0</td>\n",
       "      <td>0</td>\n",
       "      <td>1</td>\n",
       "      <td>0</td>\n",
       "      <td>0</td>\n",
       "      <td>0</td>\n",
       "      <td>0</td>\n",
       "    </tr>\n",
       "    <tr>\n",
       "      <th>14</th>\n",
       "      <td>4.4</td>\n",
       "      <td>7.325808</td>\n",
       "      <td>37000.0</td>\n",
       "      <td>11.512935</td>\n",
       "      <td>Free</td>\n",
       "      <td>0.0</td>\n",
       "      <td>0</td>\n",
       "      <td>0</td>\n",
       "      <td>0</td>\n",
       "      <td>0</td>\n",
       "      <td>...</td>\n",
       "      <td>0</td>\n",
       "      <td>0</td>\n",
       "      <td>0</td>\n",
       "      <td>0</td>\n",
       "      <td>0</td>\n",
       "      <td>1</td>\n",
       "      <td>0</td>\n",
       "      <td>0</td>\n",
       "      <td>0</td>\n",
       "      <td>0</td>\n",
       "    </tr>\n",
       "    <tr>\n",
       "      <th>16</th>\n",
       "      <td>4.7</td>\n",
       "      <td>8.197814</td>\n",
       "      <td>5500.0</td>\n",
       "      <td>13.122365</td>\n",
       "      <td>Free</td>\n",
       "      <td>0.0</td>\n",
       "      <td>0</td>\n",
       "      <td>0</td>\n",
       "      <td>0</td>\n",
       "      <td>0</td>\n",
       "      <td>...</td>\n",
       "      <td>0</td>\n",
       "      <td>0</td>\n",
       "      <td>0</td>\n",
       "      <td>0</td>\n",
       "      <td>0</td>\n",
       "      <td>1</td>\n",
       "      <td>0</td>\n",
       "      <td>0</td>\n",
       "      <td>0</td>\n",
       "      <td>0</td>\n",
       "    </tr>\n",
       "    <tr>\n",
       "      <th>17</th>\n",
       "      <td>4.5</td>\n",
       "      <td>3.332205</td>\n",
       "      <td>17000.0</td>\n",
       "      <td>9.210440</td>\n",
       "      <td>Free</td>\n",
       "      <td>0.0</td>\n",
       "      <td>0</td>\n",
       "      <td>0</td>\n",
       "      <td>0</td>\n",
       "      <td>0</td>\n",
       "      <td>...</td>\n",
       "      <td>0</td>\n",
       "      <td>0</td>\n",
       "      <td>0</td>\n",
       "      <td>0</td>\n",
       "      <td>0</td>\n",
       "      <td>1</td>\n",
       "      <td>0</td>\n",
       "      <td>0</td>\n",
       "      <td>0</td>\n",
       "      <td>0</td>\n",
       "    </tr>\n",
       "    <tr>\n",
       "      <th>20</th>\n",
       "      <td>4.0</td>\n",
       "      <td>6.111467</td>\n",
       "      <td>14000.0</td>\n",
       "      <td>11.512935</td>\n",
       "      <td>Free</td>\n",
       "      <td>0.0</td>\n",
       "      <td>0</td>\n",
       "      <td>0</td>\n",
       "      <td>0</td>\n",
       "      <td>0</td>\n",
       "      <td>...</td>\n",
       "      <td>0</td>\n",
       "      <td>0</td>\n",
       "      <td>0</td>\n",
       "      <td>0</td>\n",
       "      <td>0</td>\n",
       "      <td>1</td>\n",
       "      <td>0</td>\n",
       "      <td>0</td>\n",
       "      <td>0</td>\n",
       "      <td>0</td>\n",
       "    </tr>\n",
       "    <tr>\n",
       "      <th>21</th>\n",
       "      <td>4.1</td>\n",
       "      <td>6.484635</td>\n",
       "      <td>12000.0</td>\n",
       "      <td>11.512935</td>\n",
       "      <td>Free</td>\n",
       "      <td>0.0</td>\n",
       "      <td>0</td>\n",
       "      <td>0</td>\n",
       "      <td>0</td>\n",
       "      <td>0</td>\n",
       "      <td>...</td>\n",
       "      <td>0</td>\n",
       "      <td>0</td>\n",
       "      <td>0</td>\n",
       "      <td>0</td>\n",
       "      <td>0</td>\n",
       "      <td>1</td>\n",
       "      <td>0</td>\n",
       "      <td>0</td>\n",
       "      <td>0</td>\n",
       "      <td>0</td>\n",
       "    </tr>\n",
       "    <tr>\n",
       "      <th>22</th>\n",
       "      <td>4.7</td>\n",
       "      <td>8.948976</td>\n",
       "      <td>4200.0</td>\n",
       "      <td>13.122365</td>\n",
       "      <td>Free</td>\n",
       "      <td>0.0</td>\n",
       "      <td>0</td>\n",
       "      <td>0</td>\n",
       "      <td>0</td>\n",
       "      <td>0</td>\n",
       "      <td>...</td>\n",
       "      <td>0</td>\n",
       "      <td>0</td>\n",
       "      <td>0</td>\n",
       "      <td>0</td>\n",
       "      <td>0</td>\n",
       "      <td>0</td>\n",
       "      <td>1</td>\n",
       "      <td>0</td>\n",
       "      <td>0</td>\n",
       "      <td>0</td>\n",
       "    </tr>\n",
       "    <tr>\n",
       "      <th>24</th>\n",
       "      <td>4.7</td>\n",
       "      <td>4.779123</td>\n",
       "      <td>23000.0</td>\n",
       "      <td>10.819798</td>\n",
       "      <td>Free</td>\n",
       "      <td>0.0</td>\n",
       "      <td>0</td>\n",
       "      <td>0</td>\n",
       "      <td>0</td>\n",
       "      <td>0</td>\n",
       "      <td>...</td>\n",
       "      <td>0</td>\n",
       "      <td>0</td>\n",
       "      <td>0</td>\n",
       "      <td>0</td>\n",
       "      <td>0</td>\n",
       "      <td>1</td>\n",
       "      <td>0</td>\n",
       "      <td>0</td>\n",
       "      <td>0</td>\n",
       "      <td>0</td>\n",
       "    </tr>\n",
       "    <tr>\n",
       "      <th>25</th>\n",
       "      <td>4.8</td>\n",
       "      <td>5.262690</td>\n",
       "      <td>6000.0</td>\n",
       "      <td>9.210440</td>\n",
       "      <td>Free</td>\n",
       "      <td>0.0</td>\n",
       "      <td>0</td>\n",
       "      <td>0</td>\n",
       "      <td>0</td>\n",
       "      <td>0</td>\n",
       "      <td>...</td>\n",
       "      <td>0</td>\n",
       "      <td>0</td>\n",
       "      <td>0</td>\n",
       "      <td>0</td>\n",
       "      <td>0</td>\n",
       "      <td>1</td>\n",
       "      <td>0</td>\n",
       "      <td>0</td>\n",
       "      <td>0</td>\n",
       "      <td>0</td>\n",
       "    </tr>\n",
       "    <tr>\n",
       "      <th>27</th>\n",
       "      <td>4.1</td>\n",
       "      <td>5.318120</td>\n",
       "      <td>6100.0</td>\n",
       "      <td>11.512935</td>\n",
       "      <td>Free</td>\n",
       "      <td>0.0</td>\n",
       "      <td>0</td>\n",
       "      <td>0</td>\n",
       "      <td>0</td>\n",
       "      <td>0</td>\n",
       "      <td>...</td>\n",
       "      <td>0</td>\n",
       "      <td>0</td>\n",
       "      <td>0</td>\n",
       "      <td>0</td>\n",
       "      <td>0</td>\n",
       "      <td>1</td>\n",
       "      <td>0</td>\n",
       "      <td>0</td>\n",
       "      <td>0</td>\n",
       "      <td>0</td>\n",
       "    </tr>\n",
       "    <tr>\n",
       "      <th>28</th>\n",
       "      <td>3.9</td>\n",
       "      <td>4.919981</td>\n",
       "      <td>4600.0</td>\n",
       "      <td>9.210440</td>\n",
       "      <td>Free</td>\n",
       "      <td>0.0</td>\n",
       "      <td>0</td>\n",
       "      <td>0</td>\n",
       "      <td>0</td>\n",
       "      <td>0</td>\n",
       "      <td>...</td>\n",
       "      <td>0</td>\n",
       "      <td>0</td>\n",
       "      <td>0</td>\n",
       "      <td>0</td>\n",
       "      <td>0</td>\n",
       "      <td>1</td>\n",
       "      <td>0</td>\n",
       "      <td>0</td>\n",
       "      <td>0</td>\n",
       "      <td>0</td>\n",
       "    </tr>\n",
       "  </tbody>\n",
       "</table>\n",
       "<p>20 rows × 143 columns</p>\n",
       "</div>"
      ],
      "text/plain": [
       "    Rating   Reviews     Size   Installs  Type  Price  \\\n",
       "0      4.1  5.075174  19000.0   9.210440  Free    0.0   \n",
       "1      3.9  6.875232  14000.0  13.122365  Free    0.0   \n",
       "4      4.3  6.875232   2800.0  11.512935  Free    0.0   \n",
       "5      4.4  5.123964   5600.0  10.819798  Free    0.0   \n",
       "6      3.8  5.187386  19000.0  10.819798  Free    0.0   \n",
       "8      4.4  9.531844  33000.0  13.815512  Free    0.0   \n",
       "9      4.7  4.804021   3100.0   9.210440  Free    0.0   \n",
       "10     4.4  9.538276  28000.0  13.815512  Free    0.0   \n",
       "11     4.4  9.081256  12000.0  13.815512  Free    0.0   \n",
       "13     4.6  8.372630  21000.0  11.512935  Free    0.0   \n",
       "14     4.4  7.325808  37000.0  11.512935  Free    0.0   \n",
       "16     4.7  8.197814   5500.0  13.122365  Free    0.0   \n",
       "17     4.5  3.332205  17000.0   9.210440  Free    0.0   \n",
       "20     4.0  6.111467  14000.0  11.512935  Free    0.0   \n",
       "21     4.1  6.484635  12000.0  11.512935  Free    0.0   \n",
       "22     4.7  8.948976   4200.0  13.122365  Free    0.0   \n",
       "24     4.7  4.779123  23000.0  10.819798  Free    0.0   \n",
       "25     4.8  5.262690   6000.0   9.210440  Free    0.0   \n",
       "27     4.1  5.318120   6100.0  11.512935  Free    0.0   \n",
       "28     3.9  4.919981   4600.0   9.210440  Free    0.0   \n",
       "\n",
       "    Category_AUTO_AND_VEHICLES  Category_BEAUTY  Category_BOOKS_AND_REFERENCE  \\\n",
       "0                            0                0                             0   \n",
       "1                            0                0                             0   \n",
       "4                            0                0                             0   \n",
       "5                            0                0                             0   \n",
       "6                            0                0                             0   \n",
       "8                            0                0                             0   \n",
       "9                            0                0                             0   \n",
       "10                           0                0                             0   \n",
       "11                           0                0                             0   \n",
       "13                           0                0                             0   \n",
       "14                           0                0                             0   \n",
       "16                           0                0                             0   \n",
       "17                           0                0                             0   \n",
       "20                           0                0                             0   \n",
       "21                           0                0                             0   \n",
       "22                           0                0                             0   \n",
       "24                           0                0                             0   \n",
       "25                           0                0                             0   \n",
       "27                           0                0                             0   \n",
       "28                           0                0                             0   \n",
       "\n",
       "    Category_BUSINESS  ...  Genres_Travel & Local;Action & Adventure  \\\n",
       "0                   0  ...                                         0   \n",
       "1                   0  ...                                         0   \n",
       "4                   0  ...                                         0   \n",
       "5                   0  ...                                         0   \n",
       "6                   0  ...                                         0   \n",
       "8                   0  ...                                         0   \n",
       "9                   0  ...                                         0   \n",
       "10                  0  ...                                         0   \n",
       "11                  0  ...                                         0   \n",
       "13                  0  ...                                         0   \n",
       "14                  0  ...                                         0   \n",
       "16                  0  ...                                         0   \n",
       "17                  0  ...                                         0   \n",
       "20                  0  ...                                         0   \n",
       "21                  0  ...                                         0   \n",
       "22                  0  ...                                         0   \n",
       "24                  0  ...                                         0   \n",
       "25                  0  ...                                         0   \n",
       "27                  0  ...                                         0   \n",
       "28                  0  ...                                         0   \n",
       "\n",
       "    Genres_Trivia  Genres_Video Players & Editors  Genres_Weather  \\\n",
       "0               0                               0               0   \n",
       "1               0                               0               0   \n",
       "4               0                               0               0   \n",
       "5               0                               0               0   \n",
       "6               0                               0               0   \n",
       "8               0                               0               0   \n",
       "9               0                               0               0   \n",
       "10              0                               0               0   \n",
       "11              0                               0               0   \n",
       "13              0                               0               0   \n",
       "14              0                               0               0   \n",
       "16              0                               0               0   \n",
       "17              0                               0               0   \n",
       "20              0                               0               0   \n",
       "21              0                               0               0   \n",
       "22              0                               0               0   \n",
       "24              0                               0               0   \n",
       "25              0                               0               0   \n",
       "27              0                               0               0   \n",
       "28              0                               0               0   \n",
       "\n",
       "    Genres_Word  Content Rating_Everyone  Content Rating_Everyone 10+  \\\n",
       "0             0                        1                            0   \n",
       "1             0                        1                            0   \n",
       "4             0                        1                            0   \n",
       "5             0                        1                            0   \n",
       "6             0                        1                            0   \n",
       "8             0                        1                            0   \n",
       "9             0                        1                            0   \n",
       "10            0                        1                            0   \n",
       "11            0                        1                            0   \n",
       "13            0                        1                            0   \n",
       "14            0                        1                            0   \n",
       "16            0                        1                            0   \n",
       "17            0                        1                            0   \n",
       "20            0                        1                            0   \n",
       "21            0                        1                            0   \n",
       "22            0                        0                            1   \n",
       "24            0                        1                            0   \n",
       "25            0                        1                            0   \n",
       "27            0                        1                            0   \n",
       "28            0                        1                            0   \n",
       "\n",
       "    Content Rating_Mature 17+  Content Rating_Teen  Content Rating_Unrated  \n",
       "0                           0                    0                       0  \n",
       "1                           0                    0                       0  \n",
       "4                           0                    0                       0  \n",
       "5                           0                    0                       0  \n",
       "6                           0                    0                       0  \n",
       "8                           0                    0                       0  \n",
       "9                           0                    0                       0  \n",
       "10                          0                    0                       0  \n",
       "11                          0                    0                       0  \n",
       "13                          0                    0                       0  \n",
       "14                          0                    0                       0  \n",
       "16                          0                    0                       0  \n",
       "17                          0                    0                       0  \n",
       "20                          0                    0                       0  \n",
       "21                          0                    0                       0  \n",
       "22                          0                    0                       0  \n",
       "24                          0                    0                       0  \n",
       "25                          0                    0                       0  \n",
       "27                          0                    0                       0  \n",
       "28                          0                    0                       0  \n",
       "\n",
       "[20 rows x 143 columns]"
      ]
     },
     "execution_count": 101,
     "metadata": {},
     "output_type": "execute_result"
    }
   ],
   "source": [
    "inp2.head(20)"
   ]
  },
  {
   "cell_type": "code",
   "execution_count": 102,
   "id": "c91baeaf",
   "metadata": {},
   "outputs": [
    {
     "data": {
      "text/html": [
       "<div>\n",
       "<style scoped>\n",
       "    .dataframe tbody tr th:only-of-type {\n",
       "        vertical-align: middle;\n",
       "    }\n",
       "\n",
       "    .dataframe tbody tr th {\n",
       "        vertical-align: top;\n",
       "    }\n",
       "\n",
       "    .dataframe thead th {\n",
       "        text-align: right;\n",
       "    }\n",
       "</style>\n",
       "<table border=\"1\" class=\"dataframe\">\n",
       "  <thead>\n",
       "    <tr style=\"text-align: right;\">\n",
       "      <th></th>\n",
       "      <th>Rating</th>\n",
       "      <th>Reviews</th>\n",
       "      <th>Size</th>\n",
       "      <th>Installs</th>\n",
       "      <th>Price</th>\n",
       "      <th>Category_AUTO_AND_VEHICLES</th>\n",
       "      <th>Category_BEAUTY</th>\n",
       "      <th>Category_BOOKS_AND_REFERENCE</th>\n",
       "      <th>Category_BUSINESS</th>\n",
       "      <th>Category_COMICS</th>\n",
       "      <th>...</th>\n",
       "      <th>Genres_Travel &amp; Local;Action &amp; Adventure</th>\n",
       "      <th>Genres_Trivia</th>\n",
       "      <th>Genres_Video Players &amp; Editors</th>\n",
       "      <th>Genres_Weather</th>\n",
       "      <th>Genres_Word</th>\n",
       "      <th>Content Rating_Everyone</th>\n",
       "      <th>Content Rating_Everyone 10+</th>\n",
       "      <th>Content Rating_Mature 17+</th>\n",
       "      <th>Content Rating_Teen</th>\n",
       "      <th>Content Rating_Unrated</th>\n",
       "    </tr>\n",
       "  </thead>\n",
       "  <tbody>\n",
       "    <tr>\n",
       "      <th>Rating</th>\n",
       "      <td>1.000000</td>\n",
       "      <td>0.042957</td>\n",
       "      <td>0.008686</td>\n",
       "      <td>-0.072247</td>\n",
       "      <td>0.041800</td>\n",
       "      <td>0.007010</td>\n",
       "      <td>0.019735</td>\n",
       "      <td>0.045479</td>\n",
       "      <td>-0.012522</td>\n",
       "      <td>0.003837</td>\n",
       "      <td>...</td>\n",
       "      <td>-0.000131</td>\n",
       "      <td>-0.009329</td>\n",
       "      <td>-0.048123</td>\n",
       "      <td>0.008655</td>\n",
       "      <td>0.012916</td>\n",
       "      <td>-0.005240</td>\n",
       "      <td>0.004855</td>\n",
       "      <td>-0.028940</td>\n",
       "      <td>0.026445</td>\n",
       "      <td>-0.000131</td>\n",
       "    </tr>\n",
       "    <tr>\n",
       "      <th>Reviews</th>\n",
       "      <td>0.042957</td>\n",
       "      <td>1.000000</td>\n",
       "      <td>0.138662</td>\n",
       "      <td>0.914899</td>\n",
       "      <td>-0.045979</td>\n",
       "      <td>0.003657</td>\n",
       "      <td>-0.002673</td>\n",
       "      <td>-0.022505</td>\n",
       "      <td>-0.073271</td>\n",
       "      <td>0.023513</td>\n",
       "      <td>...</td>\n",
       "      <td>0.005290</td>\n",
       "      <td>0.008256</td>\n",
       "      <td>0.022827</td>\n",
       "      <td>0.074407</td>\n",
       "      <td>-0.007469</td>\n",
       "      <td>-0.120161</td>\n",
       "      <td>0.078413</td>\n",
       "      <td>0.054319</td>\n",
       "      <td>0.069601</td>\n",
       "      <td>0.006826</td>\n",
       "    </tr>\n",
       "    <tr>\n",
       "      <th>Size</th>\n",
       "      <td>0.008686</td>\n",
       "      <td>0.138662</td>\n",
       "      <td>1.000000</td>\n",
       "      <td>0.117977</td>\n",
       "      <td>0.035036</td>\n",
       "      <td>0.012379</td>\n",
       "      <td>-0.012225</td>\n",
       "      <td>-0.035295</td>\n",
       "      <td>-0.050666</td>\n",
       "      <td>-0.021903</td>\n",
       "      <td>...</td>\n",
       "      <td>-0.006222</td>\n",
       "      <td>0.004042</td>\n",
       "      <td>-0.042967</td>\n",
       "      <td>-0.035509</td>\n",
       "      <td>0.014156</td>\n",
       "      <td>-0.158438</td>\n",
       "      <td>0.094750</td>\n",
       "      <td>0.050661</td>\n",
       "      <td>0.115206</td>\n",
       "      <td>-0.007044</td>\n",
       "    </tr>\n",
       "    <tr>\n",
       "      <th>Installs</th>\n",
       "      <td>-0.072247</td>\n",
       "      <td>0.914899</td>\n",
       "      <td>0.117977</td>\n",
       "      <td>1.000000</td>\n",
       "      <td>-0.131158</td>\n",
       "      <td>0.019889</td>\n",
       "      <td>0.019613</td>\n",
       "      <td>-0.012150</td>\n",
       "      <td>-0.069648</td>\n",
       "      <td>0.021938</td>\n",
       "      <td>...</td>\n",
       "      <td>0.007789</td>\n",
       "      <td>0.002214</td>\n",
       "      <td>0.031702</td>\n",
       "      <td>0.065745</td>\n",
       "      <td>-0.014975</td>\n",
       "      <td>-0.086781</td>\n",
       "      <td>0.058403</td>\n",
       "      <td>0.046557</td>\n",
       "      <td>0.043492</td>\n",
       "      <td>0.004495</td>\n",
       "    </tr>\n",
       "    <tr>\n",
       "      <th>Price</th>\n",
       "      <td>0.041800</td>\n",
       "      <td>-0.045979</td>\n",
       "      <td>0.035036</td>\n",
       "      <td>-0.131158</td>\n",
       "      <td>1.000000</td>\n",
       "      <td>-0.019202</td>\n",
       "      <td>-0.015402</td>\n",
       "      <td>-0.017649</td>\n",
       "      <td>-0.015197</td>\n",
       "      <td>-0.016843</td>\n",
       "      <td>...</td>\n",
       "      <td>-0.002559</td>\n",
       "      <td>-0.012296</td>\n",
       "      <td>-0.018573</td>\n",
       "      <td>-0.001285</td>\n",
       "      <td>-0.006774</td>\n",
       "      <td>0.008016</td>\n",
       "      <td>0.020169</td>\n",
       "      <td>-0.010155</td>\n",
       "      <td>-0.014396</td>\n",
       "      <td>-0.002559</td>\n",
       "    </tr>\n",
       "    <tr>\n",
       "      <th>...</th>\n",
       "      <td>...</td>\n",
       "      <td>...</td>\n",
       "      <td>...</td>\n",
       "      <td>...</td>\n",
       "      <td>...</td>\n",
       "      <td>...</td>\n",
       "      <td>...</td>\n",
       "      <td>...</td>\n",
       "      <td>...</td>\n",
       "      <td>...</td>\n",
       "      <td>...</td>\n",
       "      <td>...</td>\n",
       "      <td>...</td>\n",
       "      <td>...</td>\n",
       "      <td>...</td>\n",
       "      <td>...</td>\n",
       "      <td>...</td>\n",
       "      <td>...</td>\n",
       "      <td>...</td>\n",
       "      <td>...</td>\n",
       "      <td>...</td>\n",
       "    </tr>\n",
       "    <tr>\n",
       "      <th>Content Rating_Everyone</th>\n",
       "      <td>-0.005240</td>\n",
       "      <td>-0.120161</td>\n",
       "      <td>-0.158438</td>\n",
       "      <td>-0.086781</td>\n",
       "      <td>0.008016</td>\n",
       "      <td>0.042035</td>\n",
       "      <td>0.016808</td>\n",
       "      <td>0.037691</td>\n",
       "      <td>0.080478</td>\n",
       "      <td>-0.073769</td>\n",
       "      <td>...</td>\n",
       "      <td>0.005848</td>\n",
       "      <td>0.005119</td>\n",
       "      <td>0.011393</td>\n",
       "      <td>0.026683</td>\n",
       "      <td>-0.012253</td>\n",
       "      <td>1.000000</td>\n",
       "      <td>-0.385259</td>\n",
       "      <td>-0.511039</td>\n",
       "      <td>-0.697529</td>\n",
       "      <td>-0.030820</td>\n",
       "    </tr>\n",
       "    <tr>\n",
       "      <th>Content Rating_Everyone 10+</th>\n",
       "      <td>0.004855</td>\n",
       "      <td>0.078413</td>\n",
       "      <td>0.094750</td>\n",
       "      <td>0.058403</td>\n",
       "      <td>0.020169</td>\n",
       "      <td>-0.007563</td>\n",
       "      <td>-0.013561</td>\n",
       "      <td>-0.009769</td>\n",
       "      <td>-0.034818</td>\n",
       "      <td>0.010352</td>\n",
       "      <td>...</td>\n",
       "      <td>-0.002253</td>\n",
       "      <td>-0.010827</td>\n",
       "      <td>-0.012293</td>\n",
       "      <td>-0.014656</td>\n",
       "      <td>0.025141</td>\n",
       "      <td>-0.385259</td>\n",
       "      <td>1.000000</td>\n",
       "      <td>-0.037359</td>\n",
       "      <td>-0.050992</td>\n",
       "      <td>-0.002253</td>\n",
       "    </tr>\n",
       "    <tr>\n",
       "      <th>Content Rating_Mature 17+</th>\n",
       "      <td>-0.028940</td>\n",
       "      <td>0.054319</td>\n",
       "      <td>0.050661</td>\n",
       "      <td>0.046557</td>\n",
       "      <td>-0.010155</td>\n",
       "      <td>-0.023855</td>\n",
       "      <td>-0.007406</td>\n",
       "      <td>-0.021414</td>\n",
       "      <td>-0.046186</td>\n",
       "      <td>0.048155</td>\n",
       "      <td>...</td>\n",
       "      <td>-0.002989</td>\n",
       "      <td>-0.014362</td>\n",
       "      <td>-0.021256</td>\n",
       "      <td>-0.019441</td>\n",
       "      <td>0.016026</td>\n",
       "      <td>-0.511039</td>\n",
       "      <td>-0.037359</td>\n",
       "      <td>1.000000</td>\n",
       "      <td>-0.067640</td>\n",
       "      <td>-0.002989</td>\n",
       "    </tr>\n",
       "    <tr>\n",
       "      <th>Content Rating_Teen</th>\n",
       "      <td>0.026445</td>\n",
       "      <td>0.069601</td>\n",
       "      <td>0.115206</td>\n",
       "      <td>0.043492</td>\n",
       "      <td>-0.014396</td>\n",
       "      <td>-0.032561</td>\n",
       "      <td>-0.008414</td>\n",
       "      <td>-0.027358</td>\n",
       "      <td>-0.050012</td>\n",
       "      <td>0.047031</td>\n",
       "      <td>...</td>\n",
       "      <td>-0.004079</td>\n",
       "      <td>0.010649</td>\n",
       "      <td>0.008588</td>\n",
       "      <td>-0.011585</td>\n",
       "      <td>-0.010799</td>\n",
       "      <td>-0.697529</td>\n",
       "      <td>-0.050992</td>\n",
       "      <td>-0.067640</td>\n",
       "      <td>1.000000</td>\n",
       "      <td>-0.004079</td>\n",
       "    </tr>\n",
       "    <tr>\n",
       "      <th>Content Rating_Unrated</th>\n",
       "      <td>-0.000131</td>\n",
       "      <td>0.006826</td>\n",
       "      <td>-0.007044</td>\n",
       "      <td>0.004495</td>\n",
       "      <td>-0.002559</td>\n",
       "      <td>-0.001439</td>\n",
       "      <td>-0.001085</td>\n",
       "      <td>-0.001996</td>\n",
       "      <td>-0.002785</td>\n",
       "      <td>-0.001186</td>\n",
       "      <td>...</td>\n",
       "      <td>-0.000180</td>\n",
       "      <td>-0.000866</td>\n",
       "      <td>-0.001694</td>\n",
       "      <td>-0.001172</td>\n",
       "      <td>-0.000477</td>\n",
       "      <td>-0.030820</td>\n",
       "      <td>-0.002253</td>\n",
       "      <td>-0.002989</td>\n",
       "      <td>-0.004079</td>\n",
       "      <td>1.000000</td>\n",
       "    </tr>\n",
       "  </tbody>\n",
       "</table>\n",
       "<p>142 rows × 142 columns</p>\n",
       "</div>"
      ],
      "text/plain": [
       "                               Rating   Reviews      Size  Installs     Price  \\\n",
       "Rating                       1.000000  0.042957  0.008686 -0.072247  0.041800   \n",
       "Reviews                      0.042957  1.000000  0.138662  0.914899 -0.045979   \n",
       "Size                         0.008686  0.138662  1.000000  0.117977  0.035036   \n",
       "Installs                    -0.072247  0.914899  0.117977  1.000000 -0.131158   \n",
       "Price                        0.041800 -0.045979  0.035036 -0.131158  1.000000   \n",
       "...                               ...       ...       ...       ...       ...   \n",
       "Content Rating_Everyone     -0.005240 -0.120161 -0.158438 -0.086781  0.008016   \n",
       "Content Rating_Everyone 10+  0.004855  0.078413  0.094750  0.058403  0.020169   \n",
       "Content Rating_Mature 17+   -0.028940  0.054319  0.050661  0.046557 -0.010155   \n",
       "Content Rating_Teen          0.026445  0.069601  0.115206  0.043492 -0.014396   \n",
       "Content Rating_Unrated      -0.000131  0.006826 -0.007044  0.004495 -0.002559   \n",
       "\n",
       "                             Category_AUTO_AND_VEHICLES  Category_BEAUTY  \\\n",
       "Rating                                         0.007010         0.019735   \n",
       "Reviews                                        0.003657        -0.002673   \n",
       "Size                                           0.012379        -0.012225   \n",
       "Installs                                       0.019889         0.019613   \n",
       "Price                                         -0.019202        -0.015402   \n",
       "...                                                 ...              ...   \n",
       "Content Rating_Everyone                        0.042035         0.016808   \n",
       "Content Rating_Everyone 10+                   -0.007563        -0.013561   \n",
       "Content Rating_Mature 17+                     -0.023855        -0.007406   \n",
       "Content Rating_Teen                           -0.032561        -0.008414   \n",
       "Content Rating_Unrated                        -0.001439        -0.001085   \n",
       "\n",
       "                             Category_BOOKS_AND_REFERENCE  Category_BUSINESS  \\\n",
       "Rating                                           0.045479          -0.012522   \n",
       "Reviews                                         -0.022505          -0.073271   \n",
       "Size                                            -0.035295          -0.050666   \n",
       "Installs                                        -0.012150          -0.069648   \n",
       "Price                                           -0.017649          -0.015197   \n",
       "...                                                   ...                ...   \n",
       "Content Rating_Everyone                          0.037691           0.080478   \n",
       "Content Rating_Everyone 10+                     -0.009769          -0.034818   \n",
       "Content Rating_Mature 17+                       -0.021414          -0.046186   \n",
       "Content Rating_Teen                             -0.027358          -0.050012   \n",
       "Content Rating_Unrated                          -0.001996          -0.002785   \n",
       "\n",
       "                             Category_COMICS  ...  \\\n",
       "Rating                              0.003837  ...   \n",
       "Reviews                             0.023513  ...   \n",
       "Size                               -0.021903  ...   \n",
       "Installs                            0.021938  ...   \n",
       "Price                              -0.016843  ...   \n",
       "...                                      ...  ...   \n",
       "Content Rating_Everyone            -0.073769  ...   \n",
       "Content Rating_Everyone 10+         0.010352  ...   \n",
       "Content Rating_Mature 17+           0.048155  ...   \n",
       "Content Rating_Teen                 0.047031  ...   \n",
       "Content Rating_Unrated             -0.001186  ...   \n",
       "\n",
       "                             Genres_Travel & Local;Action & Adventure  \\\n",
       "Rating                                                      -0.000131   \n",
       "Reviews                                                      0.005290   \n",
       "Size                                                        -0.006222   \n",
       "Installs                                                     0.007789   \n",
       "Price                                                       -0.002559   \n",
       "...                                                               ...   \n",
       "Content Rating_Everyone                                      0.005848   \n",
       "Content Rating_Everyone 10+                                 -0.002253   \n",
       "Content Rating_Mature 17+                                   -0.002989   \n",
       "Content Rating_Teen                                         -0.004079   \n",
       "Content Rating_Unrated                                      -0.000180   \n",
       "\n",
       "                             Genres_Trivia  Genres_Video Players & Editors  \\\n",
       "Rating                           -0.009329                       -0.048123   \n",
       "Reviews                           0.008256                        0.022827   \n",
       "Size                              0.004042                       -0.042967   \n",
       "Installs                          0.002214                        0.031702   \n",
       "Price                            -0.012296                       -0.018573   \n",
       "...                                    ...                             ...   \n",
       "Content Rating_Everyone           0.005119                        0.011393   \n",
       "Content Rating_Everyone 10+      -0.010827                       -0.012293   \n",
       "Content Rating_Mature 17+        -0.014362                       -0.021256   \n",
       "Content Rating_Teen               0.010649                        0.008588   \n",
       "Content Rating_Unrated           -0.000866                       -0.001694   \n",
       "\n",
       "                             Genres_Weather  Genres_Word  \\\n",
       "Rating                             0.008655     0.012916   \n",
       "Reviews                            0.074407    -0.007469   \n",
       "Size                              -0.035509     0.014156   \n",
       "Installs                           0.065745    -0.014975   \n",
       "Price                             -0.001285    -0.006774   \n",
       "...                                     ...          ...   \n",
       "Content Rating_Everyone            0.026683    -0.012253   \n",
       "Content Rating_Everyone 10+       -0.014656     0.025141   \n",
       "Content Rating_Mature 17+         -0.019441     0.016026   \n",
       "Content Rating_Teen               -0.011585    -0.010799   \n",
       "Content Rating_Unrated            -0.001172    -0.000477   \n",
       "\n",
       "                             Content Rating_Everyone  \\\n",
       "Rating                                     -0.005240   \n",
       "Reviews                                    -0.120161   \n",
       "Size                                       -0.158438   \n",
       "Installs                                   -0.086781   \n",
       "Price                                       0.008016   \n",
       "...                                              ...   \n",
       "Content Rating_Everyone                     1.000000   \n",
       "Content Rating_Everyone 10+                -0.385259   \n",
       "Content Rating_Mature 17+                  -0.511039   \n",
       "Content Rating_Teen                        -0.697529   \n",
       "Content Rating_Unrated                     -0.030820   \n",
       "\n",
       "                             Content Rating_Everyone 10+  \\\n",
       "Rating                                          0.004855   \n",
       "Reviews                                         0.078413   \n",
       "Size                                            0.094750   \n",
       "Installs                                        0.058403   \n",
       "Price                                           0.020169   \n",
       "...                                                  ...   \n",
       "Content Rating_Everyone                        -0.385259   \n",
       "Content Rating_Everyone 10+                     1.000000   \n",
       "Content Rating_Mature 17+                      -0.037359   \n",
       "Content Rating_Teen                            -0.050992   \n",
       "Content Rating_Unrated                         -0.002253   \n",
       "\n",
       "                             Content Rating_Mature 17+  Content Rating_Teen  \\\n",
       "Rating                                       -0.028940             0.026445   \n",
       "Reviews                                       0.054319             0.069601   \n",
       "Size                                          0.050661             0.115206   \n",
       "Installs                                      0.046557             0.043492   \n",
       "Price                                        -0.010155            -0.014396   \n",
       "...                                                ...                  ...   \n",
       "Content Rating_Everyone                      -0.511039            -0.697529   \n",
       "Content Rating_Everyone 10+                  -0.037359            -0.050992   \n",
       "Content Rating_Mature 17+                     1.000000            -0.067640   \n",
       "Content Rating_Teen                          -0.067640             1.000000   \n",
       "Content Rating_Unrated                       -0.002989            -0.004079   \n",
       "\n",
       "                             Content Rating_Unrated  \n",
       "Rating                                    -0.000131  \n",
       "Reviews                                    0.006826  \n",
       "Size                                      -0.007044  \n",
       "Installs                                   0.004495  \n",
       "Price                                     -0.002559  \n",
       "...                                             ...  \n",
       "Content Rating_Everyone                   -0.030820  \n",
       "Content Rating_Everyone 10+               -0.002253  \n",
       "Content Rating_Mature 17+                 -0.002989  \n",
       "Content Rating_Teen                       -0.004079  \n",
       "Content Rating_Unrated                     1.000000  \n",
       "\n",
       "[142 rows x 142 columns]"
      ]
     },
     "execution_count": 102,
     "metadata": {},
     "output_type": "execute_result"
    }
   ],
   "source": [
    "inp2.corr()"
   ]
  },
  {
   "cell_type": "code",
   "execution_count": 103,
   "id": "59a33d78",
   "metadata": {},
   "outputs": [],
   "source": [
    "inp2.drop('Type',axis=1, inplace=True)"
   ]
  },
  {
   "cell_type": "code",
   "execution_count": 104,
   "id": "46c24067",
   "metadata": {},
   "outputs": [
    {
     "data": {
      "text/html": [
       "<div>\n",
       "<style scoped>\n",
       "    .dataframe tbody tr th:only-of-type {\n",
       "        vertical-align: middle;\n",
       "    }\n",
       "\n",
       "    .dataframe tbody tr th {\n",
       "        vertical-align: top;\n",
       "    }\n",
       "\n",
       "    .dataframe thead th {\n",
       "        text-align: right;\n",
       "    }\n",
       "</style>\n",
       "<table border=\"1\" class=\"dataframe\">\n",
       "  <thead>\n",
       "    <tr style=\"text-align: right;\">\n",
       "      <th></th>\n",
       "      <th>Rating</th>\n",
       "      <th>Reviews</th>\n",
       "      <th>Size</th>\n",
       "      <th>Installs</th>\n",
       "      <th>Price</th>\n",
       "      <th>Category_AUTO_AND_VEHICLES</th>\n",
       "      <th>Category_BEAUTY</th>\n",
       "      <th>Category_BOOKS_AND_REFERENCE</th>\n",
       "      <th>Category_BUSINESS</th>\n",
       "      <th>Category_COMICS</th>\n",
       "      <th>...</th>\n",
       "      <th>Genres_Travel &amp; Local;Action &amp; Adventure</th>\n",
       "      <th>Genres_Trivia</th>\n",
       "      <th>Genres_Video Players &amp; Editors</th>\n",
       "      <th>Genres_Weather</th>\n",
       "      <th>Genres_Word</th>\n",
       "      <th>Content Rating_Everyone</th>\n",
       "      <th>Content Rating_Everyone 10+</th>\n",
       "      <th>Content Rating_Mature 17+</th>\n",
       "      <th>Content Rating_Teen</th>\n",
       "      <th>Content Rating_Unrated</th>\n",
       "    </tr>\n",
       "  </thead>\n",
       "  <tbody>\n",
       "    <tr>\n",
       "      <th>0</th>\n",
       "      <td>4.1</td>\n",
       "      <td>5.075174</td>\n",
       "      <td>19000.0</td>\n",
       "      <td>9.210440</td>\n",
       "      <td>0.0</td>\n",
       "      <td>0</td>\n",
       "      <td>0</td>\n",
       "      <td>0</td>\n",
       "      <td>0</td>\n",
       "      <td>0</td>\n",
       "      <td>...</td>\n",
       "      <td>0</td>\n",
       "      <td>0</td>\n",
       "      <td>0</td>\n",
       "      <td>0</td>\n",
       "      <td>0</td>\n",
       "      <td>1</td>\n",
       "      <td>0</td>\n",
       "      <td>0</td>\n",
       "      <td>0</td>\n",
       "      <td>0</td>\n",
       "    </tr>\n",
       "    <tr>\n",
       "      <th>1</th>\n",
       "      <td>3.9</td>\n",
       "      <td>6.875232</td>\n",
       "      <td>14000.0</td>\n",
       "      <td>13.122365</td>\n",
       "      <td>0.0</td>\n",
       "      <td>0</td>\n",
       "      <td>0</td>\n",
       "      <td>0</td>\n",
       "      <td>0</td>\n",
       "      <td>0</td>\n",
       "      <td>...</td>\n",
       "      <td>0</td>\n",
       "      <td>0</td>\n",
       "      <td>0</td>\n",
       "      <td>0</td>\n",
       "      <td>0</td>\n",
       "      <td>1</td>\n",
       "      <td>0</td>\n",
       "      <td>0</td>\n",
       "      <td>0</td>\n",
       "      <td>0</td>\n",
       "    </tr>\n",
       "    <tr>\n",
       "      <th>4</th>\n",
       "      <td>4.3</td>\n",
       "      <td>6.875232</td>\n",
       "      <td>2800.0</td>\n",
       "      <td>11.512935</td>\n",
       "      <td>0.0</td>\n",
       "      <td>0</td>\n",
       "      <td>0</td>\n",
       "      <td>0</td>\n",
       "      <td>0</td>\n",
       "      <td>0</td>\n",
       "      <td>...</td>\n",
       "      <td>0</td>\n",
       "      <td>0</td>\n",
       "      <td>0</td>\n",
       "      <td>0</td>\n",
       "      <td>0</td>\n",
       "      <td>1</td>\n",
       "      <td>0</td>\n",
       "      <td>0</td>\n",
       "      <td>0</td>\n",
       "      <td>0</td>\n",
       "    </tr>\n",
       "    <tr>\n",
       "      <th>5</th>\n",
       "      <td>4.4</td>\n",
       "      <td>5.123964</td>\n",
       "      <td>5600.0</td>\n",
       "      <td>10.819798</td>\n",
       "      <td>0.0</td>\n",
       "      <td>0</td>\n",
       "      <td>0</td>\n",
       "      <td>0</td>\n",
       "      <td>0</td>\n",
       "      <td>0</td>\n",
       "      <td>...</td>\n",
       "      <td>0</td>\n",
       "      <td>0</td>\n",
       "      <td>0</td>\n",
       "      <td>0</td>\n",
       "      <td>0</td>\n",
       "      <td>1</td>\n",
       "      <td>0</td>\n",
       "      <td>0</td>\n",
       "      <td>0</td>\n",
       "      <td>0</td>\n",
       "    </tr>\n",
       "    <tr>\n",
       "      <th>6</th>\n",
       "      <td>3.8</td>\n",
       "      <td>5.187386</td>\n",
       "      <td>19000.0</td>\n",
       "      <td>10.819798</td>\n",
       "      <td>0.0</td>\n",
       "      <td>0</td>\n",
       "      <td>0</td>\n",
       "      <td>0</td>\n",
       "      <td>0</td>\n",
       "      <td>0</td>\n",
       "      <td>...</td>\n",
       "      <td>0</td>\n",
       "      <td>0</td>\n",
       "      <td>0</td>\n",
       "      <td>0</td>\n",
       "      <td>0</td>\n",
       "      <td>1</td>\n",
       "      <td>0</td>\n",
       "      <td>0</td>\n",
       "      <td>0</td>\n",
       "      <td>0</td>\n",
       "    </tr>\n",
       "  </tbody>\n",
       "</table>\n",
       "<p>5 rows × 142 columns</p>\n",
       "</div>"
      ],
      "text/plain": [
       "   Rating   Reviews     Size   Installs  Price  Category_AUTO_AND_VEHICLES  \\\n",
       "0     4.1  5.075174  19000.0   9.210440    0.0                           0   \n",
       "1     3.9  6.875232  14000.0  13.122365    0.0                           0   \n",
       "4     4.3  6.875232   2800.0  11.512935    0.0                           0   \n",
       "5     4.4  5.123964   5600.0  10.819798    0.0                           0   \n",
       "6     3.8  5.187386  19000.0  10.819798    0.0                           0   \n",
       "\n",
       "   Category_BEAUTY  Category_BOOKS_AND_REFERENCE  Category_BUSINESS  \\\n",
       "0                0                             0                  0   \n",
       "1                0                             0                  0   \n",
       "4                0                             0                  0   \n",
       "5                0                             0                  0   \n",
       "6                0                             0                  0   \n",
       "\n",
       "   Category_COMICS  ...  Genres_Travel & Local;Action & Adventure  \\\n",
       "0                0  ...                                         0   \n",
       "1                0  ...                                         0   \n",
       "4                0  ...                                         0   \n",
       "5                0  ...                                         0   \n",
       "6                0  ...                                         0   \n",
       "\n",
       "   Genres_Trivia  Genres_Video Players & Editors  Genres_Weather  Genres_Word  \\\n",
       "0              0                               0               0            0   \n",
       "1              0                               0               0            0   \n",
       "4              0                               0               0            0   \n",
       "5              0                               0               0            0   \n",
       "6              0                               0               0            0   \n",
       "\n",
       "   Content Rating_Everyone  Content Rating_Everyone 10+  \\\n",
       "0                        1                            0   \n",
       "1                        1                            0   \n",
       "4                        1                            0   \n",
       "5                        1                            0   \n",
       "6                        1                            0   \n",
       "\n",
       "   Content Rating_Mature 17+  Content Rating_Teen  Content Rating_Unrated  \n",
       "0                          0                    0                       0  \n",
       "1                          0                    0                       0  \n",
       "4                          0                    0                       0  \n",
       "5                          0                    0                       0  \n",
       "6                          0                    0                       0  \n",
       "\n",
       "[5 rows x 142 columns]"
      ]
     },
     "execution_count": 104,
     "metadata": {},
     "output_type": "execute_result"
    }
   ],
   "source": [
    "inp2.head()"
   ]
  },
  {
   "cell_type": "markdown",
   "id": "8f54c73a",
   "metadata": {},
   "source": [
    "### 10. Separate the dataframes into X_train, y_train, X_test, and y_test"
   ]
  },
  {
   "cell_type": "code",
   "execution_count": 105,
   "id": "00bda026",
   "metadata": {},
   "outputs": [],
   "source": [
    "X = inp2.iloc[:,1:]\n",
    "y = inp2.iloc[:,:1]\n",
    "# since it is multivariate analysis where my dependent(target) variable is Rating and Independent variable is Price."
   ]
  },
  {
   "cell_type": "code",
   "execution_count": 106,
   "id": "d21e929b",
   "metadata": {},
   "outputs": [
    {
     "data": {
      "text/html": [
       "<div>\n",
       "<style scoped>\n",
       "    .dataframe tbody tr th:only-of-type {\n",
       "        vertical-align: middle;\n",
       "    }\n",
       "\n",
       "    .dataframe tbody tr th {\n",
       "        vertical-align: top;\n",
       "    }\n",
       "\n",
       "    .dataframe thead th {\n",
       "        text-align: right;\n",
       "    }\n",
       "</style>\n",
       "<table border=\"1\" class=\"dataframe\">\n",
       "  <thead>\n",
       "    <tr style=\"text-align: right;\">\n",
       "      <th></th>\n",
       "      <th>Reviews</th>\n",
       "      <th>Size</th>\n",
       "      <th>Installs</th>\n",
       "      <th>Price</th>\n",
       "      <th>Category_AUTO_AND_VEHICLES</th>\n",
       "      <th>Category_BEAUTY</th>\n",
       "      <th>Category_BOOKS_AND_REFERENCE</th>\n",
       "      <th>Category_BUSINESS</th>\n",
       "      <th>Category_COMICS</th>\n",
       "      <th>Category_COMMUNICATION</th>\n",
       "      <th>...</th>\n",
       "      <th>Genres_Travel &amp; Local;Action &amp; Adventure</th>\n",
       "      <th>Genres_Trivia</th>\n",
       "      <th>Genres_Video Players &amp; Editors</th>\n",
       "      <th>Genres_Weather</th>\n",
       "      <th>Genres_Word</th>\n",
       "      <th>Content Rating_Everyone</th>\n",
       "      <th>Content Rating_Everyone 10+</th>\n",
       "      <th>Content Rating_Mature 17+</th>\n",
       "      <th>Content Rating_Teen</th>\n",
       "      <th>Content Rating_Unrated</th>\n",
       "    </tr>\n",
       "  </thead>\n",
       "  <tbody>\n",
       "    <tr>\n",
       "      <th>0</th>\n",
       "      <td>5.075174</td>\n",
       "      <td>19000.0</td>\n",
       "      <td>9.210440</td>\n",
       "      <td>0.0</td>\n",
       "      <td>0</td>\n",
       "      <td>0</td>\n",
       "      <td>0</td>\n",
       "      <td>0</td>\n",
       "      <td>0</td>\n",
       "      <td>0</td>\n",
       "      <td>...</td>\n",
       "      <td>0</td>\n",
       "      <td>0</td>\n",
       "      <td>0</td>\n",
       "      <td>0</td>\n",
       "      <td>0</td>\n",
       "      <td>1</td>\n",
       "      <td>0</td>\n",
       "      <td>0</td>\n",
       "      <td>0</td>\n",
       "      <td>0</td>\n",
       "    </tr>\n",
       "    <tr>\n",
       "      <th>1</th>\n",
       "      <td>6.875232</td>\n",
       "      <td>14000.0</td>\n",
       "      <td>13.122365</td>\n",
       "      <td>0.0</td>\n",
       "      <td>0</td>\n",
       "      <td>0</td>\n",
       "      <td>0</td>\n",
       "      <td>0</td>\n",
       "      <td>0</td>\n",
       "      <td>0</td>\n",
       "      <td>...</td>\n",
       "      <td>0</td>\n",
       "      <td>0</td>\n",
       "      <td>0</td>\n",
       "      <td>0</td>\n",
       "      <td>0</td>\n",
       "      <td>1</td>\n",
       "      <td>0</td>\n",
       "      <td>0</td>\n",
       "      <td>0</td>\n",
       "      <td>0</td>\n",
       "    </tr>\n",
       "    <tr>\n",
       "      <th>4</th>\n",
       "      <td>6.875232</td>\n",
       "      <td>2800.0</td>\n",
       "      <td>11.512935</td>\n",
       "      <td>0.0</td>\n",
       "      <td>0</td>\n",
       "      <td>0</td>\n",
       "      <td>0</td>\n",
       "      <td>0</td>\n",
       "      <td>0</td>\n",
       "      <td>0</td>\n",
       "      <td>...</td>\n",
       "      <td>0</td>\n",
       "      <td>0</td>\n",
       "      <td>0</td>\n",
       "      <td>0</td>\n",
       "      <td>0</td>\n",
       "      <td>1</td>\n",
       "      <td>0</td>\n",
       "      <td>0</td>\n",
       "      <td>0</td>\n",
       "      <td>0</td>\n",
       "    </tr>\n",
       "    <tr>\n",
       "      <th>5</th>\n",
       "      <td>5.123964</td>\n",
       "      <td>5600.0</td>\n",
       "      <td>10.819798</td>\n",
       "      <td>0.0</td>\n",
       "      <td>0</td>\n",
       "      <td>0</td>\n",
       "      <td>0</td>\n",
       "      <td>0</td>\n",
       "      <td>0</td>\n",
       "      <td>0</td>\n",
       "      <td>...</td>\n",
       "      <td>0</td>\n",
       "      <td>0</td>\n",
       "      <td>0</td>\n",
       "      <td>0</td>\n",
       "      <td>0</td>\n",
       "      <td>1</td>\n",
       "      <td>0</td>\n",
       "      <td>0</td>\n",
       "      <td>0</td>\n",
       "      <td>0</td>\n",
       "    </tr>\n",
       "    <tr>\n",
       "      <th>6</th>\n",
       "      <td>5.187386</td>\n",
       "      <td>19000.0</td>\n",
       "      <td>10.819798</td>\n",
       "      <td>0.0</td>\n",
       "      <td>0</td>\n",
       "      <td>0</td>\n",
       "      <td>0</td>\n",
       "      <td>0</td>\n",
       "      <td>0</td>\n",
       "      <td>0</td>\n",
       "      <td>...</td>\n",
       "      <td>0</td>\n",
       "      <td>0</td>\n",
       "      <td>0</td>\n",
       "      <td>0</td>\n",
       "      <td>0</td>\n",
       "      <td>1</td>\n",
       "      <td>0</td>\n",
       "      <td>0</td>\n",
       "      <td>0</td>\n",
       "      <td>0</td>\n",
       "    </tr>\n",
       "  </tbody>\n",
       "</table>\n",
       "<p>5 rows × 141 columns</p>\n",
       "</div>"
      ],
      "text/plain": [
       "    Reviews     Size   Installs  Price  Category_AUTO_AND_VEHICLES  \\\n",
       "0  5.075174  19000.0   9.210440    0.0                           0   \n",
       "1  6.875232  14000.0  13.122365    0.0                           0   \n",
       "4  6.875232   2800.0  11.512935    0.0                           0   \n",
       "5  5.123964   5600.0  10.819798    0.0                           0   \n",
       "6  5.187386  19000.0  10.819798    0.0                           0   \n",
       "\n",
       "   Category_BEAUTY  Category_BOOKS_AND_REFERENCE  Category_BUSINESS  \\\n",
       "0                0                             0                  0   \n",
       "1                0                             0                  0   \n",
       "4                0                             0                  0   \n",
       "5                0                             0                  0   \n",
       "6                0                             0                  0   \n",
       "\n",
       "   Category_COMICS  Category_COMMUNICATION  ...  \\\n",
       "0                0                       0  ...   \n",
       "1                0                       0  ...   \n",
       "4                0                       0  ...   \n",
       "5                0                       0  ...   \n",
       "6                0                       0  ...   \n",
       "\n",
       "   Genres_Travel & Local;Action & Adventure  Genres_Trivia  \\\n",
       "0                                         0              0   \n",
       "1                                         0              0   \n",
       "4                                         0              0   \n",
       "5                                         0              0   \n",
       "6                                         0              0   \n",
       "\n",
       "   Genres_Video Players & Editors  Genres_Weather  Genres_Word  \\\n",
       "0                               0               0            0   \n",
       "1                               0               0            0   \n",
       "4                               0               0            0   \n",
       "5                               0               0            0   \n",
       "6                               0               0            0   \n",
       "\n",
       "   Content Rating_Everyone  Content Rating_Everyone 10+  \\\n",
       "0                        1                            0   \n",
       "1                        1                            0   \n",
       "4                        1                            0   \n",
       "5                        1                            0   \n",
       "6                        1                            0   \n",
       "\n",
       "   Content Rating_Mature 17+  Content Rating_Teen  Content Rating_Unrated  \n",
       "0                          0                    0                       0  \n",
       "1                          0                    0                       0  \n",
       "4                          0                    0                       0  \n",
       "5                          0                    0                       0  \n",
       "6                          0                    0                       0  \n",
       "\n",
       "[5 rows x 141 columns]"
      ]
     },
     "execution_count": 106,
     "metadata": {},
     "output_type": "execute_result"
    }
   ],
   "source": [
    "X.head()"
   ]
  },
  {
   "cell_type": "code",
   "execution_count": 107,
   "id": "312a4b9f",
   "metadata": {},
   "outputs": [],
   "source": [
    "X_train, X_test, y_train, y_test = train_test_split(X, y, train_size=0.7, random_state=120)\n",
    "#Splitting the dataset.. 70 for training and 30 for testing."
   ]
  },
  {
   "cell_type": "code",
   "execution_count": 108,
   "id": "6175cc61",
   "metadata": {},
   "outputs": [
    {
     "name": "stdout",
     "output_type": "stream",
     "text": [
      "(3884, 141)\n",
      "(1665, 141)\n",
      "(3884, 1)\n",
      "(1665, 1)\n"
     ]
    }
   ],
   "source": [
    "print(X_train.shape)\n",
    "print(X_test.shape)\n",
    "print(y_train.shape)\n",
    "print(y_test.shape)"
   ]
  },
  {
   "cell_type": "markdown",
   "id": "c2d5911b",
   "metadata": {},
   "source": [
    "### 11. Model building"
   ]
  },
  {
   "cell_type": "code",
   "execution_count": 109,
   "id": "f223afb1",
   "metadata": {},
   "outputs": [
    {
     "data": {
      "text/plain": [
       "LinearRegression()"
      ]
     },
     "execution_count": 109,
     "metadata": {},
     "output_type": "execute_result"
    }
   ],
   "source": [
    "#building the model\n",
    "from sklearn.linear_model import LinearRegression\n",
    "lm = LinearRegression()\n",
    "lm.fit(X_train, y_train)"
   ]
  },
  {
   "cell_type": "markdown",
   "id": "6a973adc",
   "metadata": {},
   "source": [
    "## Evaluation: To check the model quality"
   ]
  },
  {
   "cell_type": "code",
   "execution_count": 110,
   "id": "ab4a4fa0",
   "metadata": {},
   "outputs": [
    {
     "name": "stdout",
     "output_type": "stream",
     "text": [
      "[[ 1.76992112e-01 -7.18094170e-07 -1.55929764e-01 -9.49874661e-03\n",
      "   2.78777696e-02  1.20188069e-01  8.48031466e-02 -3.92846803e-02\n",
      "   2.46317625e-01 -7.95111012e-02 -1.54310184e-01 -2.44395770e-01\n",
      "  -1.78336560e-01  1.58046687e-01 -2.39180772e-01 -5.95911327e-02\n",
      "  -6.85111893e-02 -1.56047250e-02 -3.67861682e-02  6.36386766e-04\n",
      "   8.38572654e-02 -3.66714726e-02 -1.12674551e-01  3.51535767e-02\n",
      "  -5.11809690e-02  1.58562867e-01  8.45151342e-02 -5.73223894e-02\n",
      "  -6.62639011e-02 -5.52367954e-02 -6.40994648e-03 -2.48340611e-02\n",
      "  -8.66573042e-02 -6.94362970e-02 -1.24773341e-01 -1.60526344e-02\n",
      "   2.97080778e-01 -3.13204190e-02  1.75768883e-02  4.47674277e-01\n",
      "  -6.94169354e-02  3.98754412e-01  3.06583452e-01  4.62499805e-01\n",
      "   8.91819962e-02  2.78777696e-02  1.20188069e-01  5.85972271e-02\n",
      "  -1.82753812e-12  2.68766640e-01  8.63344514e-01  8.48031465e-02\n",
      "   2.09933588e-01 -3.92846803e-02 -2.40347021e-01  6.46969895e-01\n",
      "   5.14593465e-02  5.80959887e-02  4.13347896e-01  5.55489608e-01\n",
      "   2.68659147e-01  1.99733387e-01 -2.47079359e-01  4.93396984e-01\n",
      "  -7.95111012e-02  3.91889090e-01 -1.54310184e-01  3.79464072e-01\n",
      "   5.38541664e-01  9.45621758e-01  5.01664987e-01  2.74446199e-01\n",
      "   5.76784737e-01 -1.55353043e-01  5.06670760e-01  6.16897111e-01\n",
      "  -6.08506383e-03  5.23052270e-01  1.97801594e-01  1.47236315e-01\n",
      "   1.96459055e-01  1.13989934e-01  5.60571897e-01  5.75469660e-01\n",
      "   2.28361331e-01  1.58046687e-01 -5.95911327e-02 -6.85111893e-02\n",
      "  -3.67861682e-02  4.96100115e-01  6.36386766e-04  8.38572654e-02\n",
      "  -3.66714726e-02  2.58682537e-01 -1.12674551e-01  3.51535767e-02\n",
      "  -2.02857663e-01  6.63871407e-01  3.67329454e-01 -5.11809690e-02\n",
      "   1.56736849e-01 -3.02189827e-01 -1.15884282e-01  4.19900127e-01\n",
      "   8.45151342e-02 -5.73223893e-02 -6.62639011e-02  2.27837807e-01\n",
      "   3.56464131e-01  4.93667774e-01  5.44797995e-01  8.09308994e-01\n",
      "  -5.78504557e-02  5.30752492e-01  9.33424930e-01  8.18258256e-02\n",
      "   0.00000000e+00 -2.11387980e-01 -5.52367954e-02  2.14554066e-01\n",
      "   1.94452309e-01  2.36298633e-01 -2.83737192e-01 -6.40994647e-03\n",
      "  -2.48340611e-02  2.46527313e-01  9.58818748e-02  6.48173538e-01\n",
      "   8.14542231e-01 -8.66573042e-02 -6.94362970e-02  0.00000000e+00\n",
      "  -7.18247482e-02 -1.24773341e-01 -1.60526344e-02  1.25328267e-01\n",
      "   3.78357436e-01  3.77327239e-01  4.22471606e-01  4.22444406e-01\n",
      "   0.00000000e+00]]\n"
     ]
    }
   ],
   "source": [
    "# coefficient shows stength and direction of relation.\n",
    "print(lm.coef_)"
   ]
  },
  {
   "cell_type": "code",
   "execution_count": 111,
   "id": "7d7383b6",
   "metadata": {},
   "outputs": [
    {
     "name": "stdout",
     "output_type": "stream",
     "text": [
      "[4.27181937]\n"
     ]
    }
   ],
   "source": [
    "#checking intercept of the line\n",
    "print(lm.intercept_)"
   ]
  },
  {
   "cell_type": "code",
   "execution_count": 112,
   "id": "5c064b3b",
   "metadata": {},
   "outputs": [
    {
     "name": "stdout",
     "output_type": "stream",
     "text": [
      "[[4.09737547]\n",
      " [4.34754104]\n",
      " [4.49484114]\n",
      " ...\n",
      " [4.18367361]\n",
      " [3.92400814]\n",
      " [3.92220268]]\n"
     ]
    }
   ],
   "source": [
    "prediction = lm.predict(X_test)\n",
    "print(prediction) #Make predictions on test set "
   ]
  },
  {
   "cell_type": "code",
   "execution_count": 113,
   "id": "83cca072",
   "metadata": {},
   "outputs": [
    {
     "data": {
      "text/html": [
       "<div>\n",
       "<style scoped>\n",
       "    .dataframe tbody tr th:only-of-type {\n",
       "        vertical-align: middle;\n",
       "    }\n",
       "\n",
       "    .dataframe tbody tr th {\n",
       "        vertical-align: top;\n",
       "    }\n",
       "\n",
       "    .dataframe thead th {\n",
       "        text-align: right;\n",
       "    }\n",
       "</style>\n",
       "<table border=\"1\" class=\"dataframe\">\n",
       "  <thead>\n",
       "    <tr style=\"text-align: right;\">\n",
       "      <th></th>\n",
       "      <th>Rating</th>\n",
       "    </tr>\n",
       "  </thead>\n",
       "  <tbody>\n",
       "    <tr>\n",
       "      <th>7611</th>\n",
       "      <td>4.1</td>\n",
       "    </tr>\n",
       "    <tr>\n",
       "      <th>7039</th>\n",
       "      <td>4.1</td>\n",
       "    </tr>\n",
       "    <tr>\n",
       "      <th>4577</th>\n",
       "      <td>4.5</td>\n",
       "    </tr>\n",
       "    <tr>\n",
       "      <th>3658</th>\n",
       "      <td>4.8</td>\n",
       "    </tr>\n",
       "    <tr>\n",
       "      <th>7495</th>\n",
       "      <td>3.6</td>\n",
       "    </tr>\n",
       "  </tbody>\n",
       "</table>\n",
       "</div>"
      ],
      "text/plain": [
       "      Rating\n",
       "7611     4.1\n",
       "7039     4.1\n",
       "4577     4.5\n",
       "3658     4.8\n",
       "7495     3.6"
      ]
     },
     "execution_count": 113,
     "metadata": {},
     "output_type": "execute_result"
    }
   ],
   "source": [
    "y_test.head()"
   ]
  },
  {
   "cell_type": "code",
   "execution_count": 114,
   "id": "da8122f2",
   "metadata": {},
   "outputs": [],
   "source": [
    "from sklearn.metrics import mean_squared_error, r2_score\n",
    "mse = mean_squared_error(y_test, prediction)\n",
    "r_square = r2_score(y_test, prediction) #Report the R2 on the test set"
   ]
  },
  {
   "cell_type": "code",
   "execution_count": 115,
   "id": "324421c9",
   "metadata": {},
   "outputs": [
    {
     "name": "stdout",
     "output_type": "stream",
     "text": [
      "0.2978169086429528\n",
      "0.09917474610514432\n"
     ]
    }
   ],
   "source": [
    "print(mse)\n",
    "print(r_square)"
   ]
  },
  {
   "cell_type": "code",
   "execution_count": 116,
   "id": "f9c9f034",
   "metadata": {},
   "outputs": [
    {
     "data": {
      "text/plain": [
       "0.09917474610514432"
      ]
     },
     "execution_count": 116,
     "metadata": {},
     "output_type": "execute_result"
    }
   ],
   "source": [
    "lm.score(X_test,y_test)"
   ]
  },
  {
   "cell_type": "markdown",
   "id": "12fffb0d",
   "metadata": {},
   "source": [
    "### So, the r-square is low that means the independent variables are not impacting on depndent variable. It means, we can not predict which app will have higer rating so we need to apply another machine learning algorithm to find the better possible solution for it."
   ]
  }
 ],
 "metadata": {
  "kernelspec": {
   "display_name": "Python 3",
   "language": "python",
   "name": "python3"
  },
  "language_info": {
   "codemirror_mode": {
    "name": "ipython",
    "version": 3
   },
   "file_extension": ".py",
   "mimetype": "text/x-python",
   "name": "python",
   "nbconvert_exporter": "python",
   "pygments_lexer": "ipython3",
   "version": "3.8.8"
  }
 },
 "nbformat": 4,
 "nbformat_minor": 5
}
